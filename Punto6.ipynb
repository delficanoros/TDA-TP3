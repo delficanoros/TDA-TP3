{
  "nbformat": 4,
  "nbformat_minor": 0,
  "metadata": {
    "colab": {
      "provenance": []
    },
    "kernelspec": {
      "name": "python3",
      "display_name": "Python 3"
    },
    "language_info": {
      "name": "python"
    }
  },
  "cells": [
    {
      "cell_type": "code",
      "execution_count": null,
      "metadata": {
        "id": "heo6jluUqSim"
      },
      "outputs": [],
      "source": [
        "import random\n",
        "import numpy as np\n",
        "import time\n",
        "import matplotlib.pyplot as plt"
      ]
    },
    {
      "cell_type": "code",
      "source": [
        "\n",
        "def hay_adyacentes(solucion, x, y):\n",
        "    for i in [-1, 0, 1]:\n",
        "        for j in [-1, 0, 1]:\n",
        "            xi = x + i\n",
        "            yi = y + j\n",
        "            if (i != 0 or j != 0) and 0 <= xi < len(solucion) and 0 <= yi < len(solucion[0]):\n",
        "                if solucion[xi][yi] == 1:\n",
        "                    return True\n",
        "\n",
        "    return False\n",
        "\n",
        "\n",
        "def es_posicion_valida(matriz, barco, x, y, es_horizontal, restricciones_fils, restricciones_cols):\n",
        "    if es_horizontal:\n",
        "        # si no entra en la fila, no se puede agregar\n",
        "        if y + barco > len(matriz[0]):\n",
        "            return False\n",
        "\n",
        "        # si el barco ocupa más de lo pedido en la restricción de la fila, no se puede agregar\n",
        "        if barco > restricciones_fils[x]:\n",
        "            return False\n",
        "\n",
        "        for i in range(barco):\n",
        "            if matriz[x][y + i] == 1 or hay_adyacentes(matriz, x, y + i) or restricciones_cols[y + i] <= 0:\n",
        "                return False\n",
        "        return True\n",
        "    else:\n",
        "        if x + barco > len(matriz):\n",
        "            return False\n",
        "\n",
        "        if barco > restricciones_cols[y]:\n",
        "            return False\n",
        "\n",
        "        for i in range(barco):\n",
        "            if matriz[x+i][y] == 1 or hay_adyacentes(matriz, x+i, y) or restricciones_fils[x+i] <= 0:\n",
        "                return False\n",
        "        return True\n",
        "\n",
        "\n",
        "def buscar_posicion(matriz, barco, restricciones_fils, restricciones_cols):\n",
        "    if max(restricciones_fils) > max(restricciones_cols):\n",
        "        for i, demanda in enumerate(restricciones_fils):\n",
        "            if demanda >= barco:\n",
        "                for j in range(len(matriz[0])):\n",
        "                    if es_posicion_valida(matriz, barco, i, j, True, restricciones_fils, restricciones_cols):\n",
        "                        return i, j, True\n",
        "                    # si no lo pude insertar dependiendo de la demanda de la fila, lo salteo\n",
        "    else:\n",
        "        for i, demanda in enumerate(restricciones_cols):\n",
        "            if demanda >= barco:\n",
        "                for j in range(len(matriz)):\n",
        "                    if es_posicion_valida(matriz, barco, j, i, False, restricciones_fils, restricciones_cols):\n",
        "                        return j, i, False\n",
        "\n",
        "    return -1, -1, False\n",
        "\n",
        "\n",
        "def colocar_barco_y_ocupar_casilleros(matriz, barco, x, y, es_horizontal, restricciones_fils, restricciones_cols):\n",
        "    if barco == 1:\n",
        "        matriz[x][y] = 1\n",
        "    elif es_horizontal:\n",
        "        for i in range(barco):\n",
        "            matriz[x][y + i] = 1\n",
        "            restricciones_fils[x] -= 1\n",
        "            restricciones_cols[y+i] -= 1\n",
        "    else:\n",
        "        for i in range(barco):\n",
        "            matriz[x + i][y] = 1\n",
        "            restricciones_fils[x+i] -= 1\n",
        "            restricciones_cols[y] -= 1\n",
        "\n",
        "\n",
        "# asumo que recibo una matriz llena de 0s\n",
        "def aproximacion(matriz, barcos, restricciones_fils, restricciones_cols):\n",
        "    barcos.sort(reverse=True)\n",
        "\n",
        "    for barco in barcos:  # empiezo con los de mayor tamaño\n",
        "        x, y, es_horizontal = buscar_posicion(\n",
        "            matriz, barco, restricciones_fils, restricciones_cols)\n",
        "        if x != -1:\n",
        "            colocar_barco_y_ocupar_casilleros(\n",
        "                matriz, barco, x, y, es_horizontal, restricciones_fils, restricciones_cols)\n",
        "\n",
        "    return matriz\n"
      ],
      "metadata": {
        "id": "sxx4XtZzqW08"
      },
      "execution_count": null,
      "outputs": []
    },
    {
      "cell_type": "code",
      "source": [
        "def hay_adyacentes(solucion, x, y):\n",
        "    for i in [-1, 0, 1]:\n",
        "        for j in [-1, 0, 1]:\n",
        "            xi = x + i\n",
        "            yi = y + j\n",
        "            if (i != 0 or j != 0) and 0 <= xi < len(solucion) and 0 <= yi < len(solucion[0]):\n",
        "                if solucion[xi][yi] == 1:\n",
        "                    return True\n",
        "\n",
        "    return False\n",
        "\n",
        "\n",
        "def se_puede_ubicar(matriz, fil, col, largo, orientacion, restricciones_fil, restricciones_col):\n",
        "    n, m = len(matriz), len(matriz[0])\n",
        "    if (orientacion == \"horizontal\" and col + largo > m) or (orientacion == \"vertical\" and fil + largo > n):\n",
        "        return False\n",
        "\n",
        "    if hay_adyacentes(matriz, fil, col):\n",
        "        return False\n",
        "\n",
        "    if orientacion == \"horizontal\":\n",
        "        if sum(matriz[fil]) + largo > restricciones_fil[fil]:\n",
        "            return False\n",
        "        for i in range(largo):\n",
        "            if sum(matriz[r][col + i] for r in range(n)) + 1 > restricciones_col[col + i]:\n",
        "                return False\n",
        "    elif orientacion == \"vertical\":\n",
        "        if sum(matriz[r][col] for r in range(n)) + largo > restricciones_col[col]:\n",
        "            return False\n",
        "        for i in range(largo):\n",
        "            if sum(matriz[fil + i]) + 1 > restricciones_fil[fil + i]:\n",
        "                return False\n",
        "\n",
        "    return True\n",
        "\n",
        "\n",
        "def actualizar_posicion_matriz(matriz, i, j, largo, orientacion, value):\n",
        "    for k in range(largo):\n",
        "        fil, col = (i, j + k) if orientacion == \"horizontal\" else (i + k, j)\n",
        "        matriz[fil][col] = value\n",
        "\n",
        "\n",
        "def calcular_demanda(matriz, restricciones_fil, restricciones_col):\n",
        "    n, m = len(matriz), len(matriz[0])\n",
        "    suma_filas = sum(\n",
        "        [min(sum(matriz[i]), restricciones_fil[i]) for i in range(n)])\n",
        "    suma_columnas = sum(\n",
        "        [min(sum(matriz[i][j] for i in range(n)), restricciones_col[j]) for j in range(m)])\n",
        "    total_filas = sum(restricciones_fil)\n",
        "    total_cols = sum(restricciones_col)\n",
        "    demanda_llena = suma_columnas + suma_filas\n",
        "    demanda_total = total_filas + total_cols\n",
        "    return demanda_llena, demanda_total\n",
        "\n",
        "\n",
        "def backtracking(matriz, barcos, restricciones_fil, restricciones_col):\n",
        "    barcos = sorted(barcos, reverse=True)  # ordeno para mejorar la complejidad\n",
        "    posiciones = [None] * len(barcos)\n",
        "    mejor_solucion = matriz\n",
        "    return batalla_naval_bk(matriz, barcos, restricciones_fil, restricciones_col, 0, posiciones, mejor_solucion, 0, posiciones)\n",
        "\n",
        "\n",
        "def batalla_naval_bk(matriz, barcos, restricciones_fil, restricciones_col, index, posiciones, mejor_solucion, mejor_demanda, mejor_posiciones):\n",
        "    demanda_parcial, _ = calcular_demanda(\n",
        "        matriz, restricciones_fil, restricciones_col)\n",
        "    if index == len(barcos):\n",
        "        if demanda_parcial > mejor_demanda:\n",
        "            return demanda_parcial, [col[:] for col in matriz], posiciones[:]\n",
        "        return mejor_demanda, mejor_solucion, mejor_posiciones\n",
        "\n",
        "    if index > len(barcos):\n",
        "        return mejor_demanda, mejor_solucion, mejor_posiciones\n",
        "\n",
        "    if demanda_parcial + sum(barcos[i] for i in range(index, len(barcos))) < mejor_demanda:\n",
        "        return mejor_demanda, mejor_solucion, mejor_posiciones\n",
        "\n",
        "    largo_barco = barcos[index]\n",
        "    for i in range(len(matriz)):\n",
        "        for j in range(len(matriz[0])):\n",
        "            if matriz[i][j] == 1:\n",
        "                continue\n",
        "            for orientacion in [\"horizontal\", \"vertical\"]:\n",
        "                if se_puede_ubicar(matriz, i, j, largo_barco, orientacion, restricciones_fil, restricciones_col):\n",
        "                    posiciones[index] = (\n",
        "                        (i, j), (i + largo_barco - 1, j) if orientacion == \"vertical\" else (i, j + largo_barco - 1))\n",
        "\n",
        "                    actualizar_posicion_matriz(\n",
        "                        matriz, i, j, largo_barco, orientacion, 1)\n",
        "\n",
        "                    posible_demanda, posible_solucion, posible_posiciones = batalla_naval_bk(\n",
        "                        matriz, barcos, restricciones_fil, restricciones_col, index + 1, posiciones, mejor_solucion, mejor_demanda, mejor_posiciones)\n",
        "                    if posible_demanda > mejor_demanda:\n",
        "                        mejor_demanda = posible_demanda\n",
        "                        mejor_solucion = posible_solucion\n",
        "                        mejor_posiciones = posible_posiciones\n",
        "\n",
        "                    actualizar_posicion_matriz(\n",
        "                        matriz, i, j, largo_barco, orientacion, 0)\n",
        "                    posiciones[index] = None\n",
        "\n",
        "    posible_demanda2, posible_solucion2, posible_posiciones2 = batalla_naval_bk(\n",
        "        matriz, barcos, restricciones_fil, restricciones_col, index + 1, posiciones, mejor_solucion, mejor_demanda, mejor_posiciones)\n",
        "    if posible_demanda2 > mejor_demanda:\n",
        "        mejor_demanda = posible_demanda2\n",
        "        mejor_solucion = posible_solucion2[:]\n",
        "        mejor_posiciones = posible_posiciones2[:]\n",
        "\n",
        "    return mejor_demanda, mejor_solucion, mejor_posiciones\n"
      ],
      "metadata": {
        "id": "8_p2bef2qjEh"
      },
      "execution_count": null,
      "outputs": []
    },
    {
      "cell_type": "code",
      "source": [
        "from copy import deepcopy\n",
        "\n",
        "\n",
        "def ejecutar_ejemplo_aleatorio(matriz, barcos, restricciones_fil, restricciones_col):\n",
        "    matriz_copia = deepcopy(matriz)\n",
        "    matriz_copia2 = deepcopy(matriz)\n",
        "    restricciones_fil_copia = deepcopy(restricciones_fil)\n",
        "    restricciones_fil_copia2 = deepcopy(restricciones_fil)\n",
        "    restricciones_col_copia = deepcopy(restricciones_col)\n",
        "    restricciones_col_copia2 = deepcopy(restricciones_col)\n",
        "\n",
        "    start_time = time.time()\n",
        "    demanda_exacta, solucion_exacta, _ = backtracking(\n",
        "        matriz_copia, barcos, restricciones_fil_copia, restricciones_col_copia)\n",
        "    tiempo_exacto = time.time() - start_time\n",
        "\n",
        "    _, demanda_total_exacta = calcular_demanda(\n",
        "        solucion_exacta, restricciones_fil_copia, restricciones_col_copia)\n",
        "\n",
        "    start_time = time.time()\n",
        "    solucion_aproximada = aproximacion(\n",
        "        matriz_copia2, barcos, restricciones_fil_copia2, restricciones_col_copia2)\n",
        "    tiempo_aproximado = time.time() - start_time\n",
        "\n",
        "    demanda_aproximada, _ = calcular_demanda2(\n",
        "        solucion_aproximada, restricciones_fil_copia2, restricciones_col_copia2)\n",
        "\n",
        "    # Impresión de resultados\n",
        "    print(\"Solución Exacta:\")\n",
        "    for fila in solucion_exacta:\n",
        "        print(\"\".join([\"1\" if i == 1 else \"-\" for i in fila]))\n",
        "    print(\"Demanda Cumplida Exacta:\", demanda_exacta)\n",
        "    print(\"Demanda Total Exacta:\", demanda_total_exacta)\n",
        "    print(\"Tiempo Exacto:\", tiempo_exacto)\n",
        "\n",
        "    print(\"\\nSolución Aproximada:\")\n",
        "    for fila in solucion_aproximada:\n",
        "        print(\"\".join([\"1\" if i == 1 else \".\" for i in fila]))\n",
        "    print(\"Demanda Cumplida Aproximada:\", demanda_aproximada)\n",
        "    print(\"Tiempo Aproximado:\", tiempo_aproximado)\n",
        "\n",
        "    return solucion_exacta, demanda_exacta, solucion_aproximada, demanda_aproximada, tiempo_exacto, tiempo_aproximado"
      ],
      "metadata": {
        "id": "45BpOl4nqpEp"
      },
      "execution_count": null,
      "outputs": []
    },
    {
      "cell_type": "code",
      "source": [
        "def calcular_demanda2(matriz, restricciones_fil, restricciones_col):\n",
        "    n, m = len(matriz), len(matriz[0])\n",
        "    suma_filas = sum(\n",
        "        [sum(matriz[i]) for i in range(n)])\n",
        "    suma_columnas = sum(\n",
        "        [sum(matriz[i][j] for i in range(n)) for j in range(m)])\n",
        "    total_filas = sum(restricciones_fil)\n",
        "    total_cols = sum(restricciones_col)\n",
        "    demanda_llena = suma_columnas + suma_filas\n",
        "    demanda_total = total_filas + total_cols\n",
        "    return demanda_llena, demanda_total"
      ],
      "metadata": {
        "id": "yMWes0u2O9w3"
      },
      "execution_count": null,
      "outputs": []
    },
    {
      "cell_type": "code",
      "source": [
        "\n",
        "import time\n",
        "matriz1 = [[0]*5 for _ in range(3)]\n",
        "barcos1 = [5, 3, 2]\n",
        "res_fil1 = [5, 2, 3]\n",
        "res_col1 = [1, 1, 2, 2, 2]\n",
        "\n",
        "_, _, _, _, tiempo_exacto1, tiempo_aproximado1 = ejecutar_ejemplo_aleatorio(\n",
        "    matriz1, barcos1, res_fil1, res_col1)\n",
        "print(\"\")\n",
        "matriz2 = [[0] * 5 for _ in range(5)]\n",
        "barcos2 = [5, 4, 3]\n",
        "res_fil2 = [5, 5, 4, 3, 0]\n",
        "res_col2 = [5, 5, 0, 2, 5]\n",
        "\n",
        "_, _, _, _, tiempo_exacto2, tiempo_aproximado2 = ejecutar_ejemplo_aleatorio(\n",
        "    matriz2, barcos2, res_fil2, res_col2)\n",
        "\n",
        "print(\"\")\n",
        "\n",
        "matriz3 = [[0] * 6 for _ in range(6)]\n",
        "barcos3 = [6, 5, 4, 3]\n",
        "res_fil3 = [6, 5, 4, 3, 0, 0]\n",
        "res_col3 = [3, 3, 3, 5, 5, 5]\n",
        "\n",
        "_, _, _, _, tiempo_exacto3, tiempo_aproximado3 = ejecutar_ejemplo_aleatorio(\n",
        "    matriz3, barcos3, res_fil3, res_col3)"
      ],
      "metadata": {
        "colab": {
          "base_uri": "https://localhost:8080/"
        },
        "id": "9tHdgl4WqtkV",
        "outputId": "6e4d356b-41b3-4d7a-f157-ea861491a863"
      },
      "execution_count": null,
      "outputs": [
        {
          "output_type": "stream",
          "name": "stdout",
          "text": [
            "Solución Exacta:\n",
            "11111\n",
            "-----\n",
            "--111\n",
            "Demanda Cumplida Exacta: 16\n",
            "Demanda Total Exacta: 18\n",
            "Tiempo Exacto: 0.00027370452880859375\n",
            "\n",
            "Solución Aproximada:\n",
            "11111\n",
            ".....\n",
            "..111\n",
            "Demanda Cumplida Aproximada: 16\n",
            "Tiempo Aproximado: 8.225440979003906e-05\n",
            "\n",
            "Solución Exacta:\n",
            "1---1\n",
            "1---1\n",
            "1---1\n",
            "1----\n",
            "-----\n",
            "Demanda Cumplida Exacta: 14\n",
            "Demanda Total Exacta: 34\n",
            "Tiempo Exacto: 0.0006804466247558594\n",
            "\n",
            "Solución Aproximada:\n",
            "1...1\n",
            "1...1\n",
            "1...1\n",
            "1....\n",
            ".....\n",
            "Demanda Cumplida Aproximada: 14\n",
            "Tiempo Aproximado: 0.00015974044799804688\n",
            "\n",
            "Solución Exacta:\n",
            "111111\n",
            "------\n",
            "--1111\n",
            "111---\n",
            "------\n",
            "------\n",
            "Demanda Cumplida Exacta: 26\n",
            "Demanda Total Exacta: 42\n",
            "Tiempo Exacto: 0.0009267330169677734\n",
            "\n",
            "Solución Aproximada:\n",
            "111111\n",
            "......\n",
            "1111..\n",
            "......\n",
            "......\n",
            "......\n",
            "Demanda Cumplida Aproximada: 20\n",
            "Tiempo Aproximado: 9.012222290039062e-05\n"
          ]
        }
      ]
    },
    {
      "cell_type": "code",
      "source": [],
      "metadata": {
        "id": "GBLXWQB51iBk"
      },
      "execution_count": null,
      "outputs": []
    },
    {
      "cell_type": "code",
      "source": [
        "#asdasdasd"
      ],
      "metadata": {
        "id": "jlI_0-hN4kUk"
      },
      "execution_count": null,
      "outputs": []
    },
    {
      "cell_type": "code",
      "source": [
        "matriz_10_3_3 = [[0] * 3 for _ in range(10)]\n",
        "barcos_10_3_3 = [3, 3, 4]\n",
        "res_fil_10_3_3 = [1,0,1,0,1,0,0,1,1,1]\n",
        "res_col_10_3_3 = [1, 4, 3]\n",
        "\n",
        "\n",
        "_, _, _, _, tiempo_exacto_10_3_3, tiempo_aproximado_10_3_3 = ejecutar_ejemplo_aleatorio(\n",
        "    matriz_10_3_3, barcos_10_3_3, res_fil_10_3_3, res_col_10_3_3)\n"
      ],
      "metadata": {
        "colab": {
          "base_uri": "https://localhost:8080/"
        },
        "id": "G1aZao2c4lRg",
        "outputId": "8df5eb8a-34df-42e3-9942-761a7748df66"
      },
      "execution_count": null,
      "outputs": [
        {
          "output_type": "stream",
          "name": "stdout",
          "text": [
            "Solución Exacta:\n",
            "---\n",
            "---\n",
            "---\n",
            "---\n",
            "---\n",
            "---\n",
            "---\n",
            "-1-\n",
            "-1-\n",
            "-1-\n",
            "Demanda Cumplida Exacta: 6\n",
            "Demanda Total Exacta: 14\n",
            "Tiempo Exacto: 0.0008144378662109375\n",
            "\n",
            "Solución Aproximada:\n",
            "...\n",
            "...\n",
            "...\n",
            "...\n",
            "...\n",
            "...\n",
            "...\n",
            ".1.\n",
            ".1.\n",
            ".1.\n",
            "Demanda Cumplida Aproximada: 6\n",
            "Tiempo Aproximado: 0.00015020370483398438\n"
          ]
        }
      ]
    },
    {
      "cell_type": "code",
      "source": [
        "matriz_3_3_2 = [[0] * 3 for _ in range(3)]\n",
        "barcos_3_3_2 = [3, 1]\n",
        "res_fil_3_3_2 = [3, 1, 2]\n",
        "res_col_3_3_2 = [3, 2, 0]\n",
        "\n",
        "\n",
        "_, _, _, _, tiempo_exacto_3_3_2, tiempo_aproximado_3_3_2 = ejecutar_ejemplo_aleatorio(\n",
        "    matriz_3_3_2, barcos_3_3_2, res_fil_3_3_2, res_col_3_3_2)\n"
      ],
      "metadata": {
        "colab": {
          "base_uri": "https://localhost:8080/"
        },
        "id": "7QlO-HTROvEQ",
        "outputId": "eb38f7ef-e8a7-4819-81ce-cee1e2300f36"
      },
      "execution_count": null,
      "outputs": [
        {
          "output_type": "stream",
          "name": "stdout",
          "text": [
            "Solución Exacta:\n",
            "1--\n",
            "1--\n",
            "1--\n",
            "Demanda Cumplida Exacta: 6\n",
            "Demanda Total Exacta: 11\n",
            "Tiempo Exacto: 0.00015664100646972656\n",
            "\n",
            "Solución Aproximada:\n",
            "1..\n",
            "1..\n",
            "1..\n",
            "Demanda Cumplida Aproximada: 6\n",
            "Tiempo Aproximado: 3.123283386230469e-05\n"
          ]
        }
      ]
    },
    {
      "cell_type": "code",
      "source": [
        "matriz_5_5_6 = [[0] * 5 for _ in range(5)]\n",
        "barcos_5_5_6 = [1,2,2,2,2,1]\n",
        "res_fil_5_5_6 = [3,3,0,1,1]\n",
        "res_col_5_5_6 = [3,1,0,3,3]\n",
        "\n",
        "\n",
        "_, _, _, _, tiempo_exacto_5_5_6, tiempo_aproximado_5_5_6 = ejecutar_ejemplo_aleatorio(\n",
        "    matriz_5_5_6, barcos_5_5_6, res_fil_5_5_6, res_col_5_5_6)\n"
      ],
      "metadata": {
        "colab": {
          "base_uri": "https://localhost:8080/"
        },
        "id": "D7e5x4-QPTDD",
        "outputId": "a2423881-5338-45e8-f16b-1fdd85678743"
      },
      "execution_count": null,
      "outputs": [
        {
          "output_type": "stream",
          "name": "stdout",
          "text": [
            "Solución Exacta:\n",
            "11-1-\n",
            "---1-\n",
            "-----\n",
            "1----\n",
            "1----\n",
            "Demanda Cumplida Exacta: 12\n",
            "Demanda Total Exacta: 18\n",
            "Tiempo Exacto: 0.08788490295410156\n",
            "\n",
            "Solución Aproximada:\n",
            "1..1.\n",
            "1..1.\n",
            ".....\n",
            "....1\n",
            "....1\n",
            "Demanda Cumplida Aproximada: 12\n",
            "Tiempo Aproximado: 0.00012493133544921875\n"
          ]
        }
      ]
    },
    {
      "cell_type": "code",
      "source": [
        "#8 7 10\n",
        "\n",
        "\n",
        "matriz = [[0] * 7 for _ in range(8)]\n",
        "barcos = [2,1,2,2,1,3,2,7,7,7]\n",
        "res_fil = [1,4,4,4,3,3,4,4]\n",
        "res_col = [6,5,3,0,6,3,3]\n",
        "\n",
        "\n",
        "_, _, _, _, tiempo_exacto, tiempo_aproximado = ejecutar_ejemplo_aleatorio(\n",
        "    matriz, barcos, res_fil, res_col)\n"
      ],
      "metadata": {
        "colab": {
          "base_uri": "https://localhost:8080/"
        },
        "id": "4LohZldgOwIP",
        "outputId": "d68210aa-f3be-498d-c6ee-d7391c690173"
      },
      "execution_count": null,
      "outputs": [
        {
          "output_type": "stream",
          "name": "stdout",
          "text": [
            "Solución Exacta:\n",
            "1------\n",
            "1-1-11-\n",
            "1-1----\n",
            "----11-\n",
            "11-----\n",
            "----1-1\n",
            "-------\n",
            "-------\n",
            "Demanda Cumplida Exacta: 26\n",
            "Demanda Total Exacta: 53\n",
            "Tiempo Exacto: 0.01371312141418457\n",
            "\n",
            "Solución Aproximada:\n",
            "1......\n",
            "1.1.1..\n",
            "1.1.1..\n",
            ".......\n",
            "1.1.1..\n",
            "1...1..\n",
            ".......\n",
            "1......\n",
            "Demanda Cumplida Aproximada: 26\n",
            "Tiempo Aproximado: 0.00016307830810546875\n"
          ]
        }
      ]
    },
    {
      "cell_type": "code",
      "source": [
        "#10 10 10\n",
        "matriz = [[0] * 10 for _ in range(10)]\n",
        "barcos = [4,3,3,2,2,2,1,1,1,1]\n",
        "res_fil = [3,2,2,4,2,1,1,2,3,0]\n",
        "res_col = [1,2,1,3,2,2,3,1,5,0]\n",
        "\n",
        "\n",
        "_, _, _, _, tiempo_exacto, tiempo_aproximado = ejecutar_ejemplo_aleatorio(\n",
        "    matriz, barcos, res_fil, res_col)\n"
      ],
      "metadata": {
        "colab": {
          "base_uri": "https://localhost:8080/"
        },
        "id": "lOGQ_nGpP5Ob",
        "outputId": "b4d5f9af-0c89-4a36-d7c3-fdd4f3f80b7d"
      },
      "execution_count": null,
      "outputs": [
        {
          "output_type": "stream",
          "name": "stdout",
          "text": [
            "Solución Exacta:\n",
            "---1--1-1-\n",
            "---1----1-\n",
            "---1----1-\n",
            "111-----1-\n",
            "----11----\n",
            "-1--------\n",
            "------1---\n",
            "------1-1-\n",
            "----11----\n",
            "----------\n",
            "Demanda Cumplida Exacta: 38\n",
            "Demanda Total Exacta: 40\n",
            "Tiempo Exacto: 0.07563638687133789\n",
            "\n",
            "Solución Aproximada:\n",
            "...1.1..1.\n",
            "...1....1.\n",
            "...1....1.\n",
            "11....1.1.\n",
            "....1.1...\n",
            "......1...\n",
            "....1.....\n",
            ".11.......\n",
            "....11.1..\n",
            "..........\n",
            "Demanda Cumplida Aproximada: 40\n",
            "Tiempo Aproximado: 0.00021004676818847656\n"
          ]
        }
      ]
    },
    {
      "cell_type": "code",
      "source": [
        "#12,12,21\n",
        "matriz = [[0] * 12 for _ in range(12)]\n",
        "barcos = [4,3,7,4,3,2,2,5,5,5,4,4,5,5,7,6,4,1,7,4,4]\n",
        "res_fil = [3,6,1,2,3,6,5,2,0,3,0,3]\n",
        "res_col = [3,0,1,1,3,1,0,3,3,4,1,4]\n",
        "\n",
        "\n",
        "_, _, _, _, tiempo_exacto, tiempo_aproximado = ejecutar_ejemplo_aleatorio(\n",
        "    matriz, barcos, res_fil, res_col)\n"
      ],
      "metadata": {
        "colab": {
          "base_uri": "https://localhost:8080/"
        },
        "id": "v4xZL-VCQUiN",
        "outputId": "c2514087-0bd6-4d0f-f790-d7c0572cc361"
      },
      "execution_count": null,
      "outputs": [
        {
          "output_type": "stream",
          "name": "stdout",
          "text": [
            "Solución Exacta:\n",
            "1-----------\n",
            "1------11111\n",
            "1-----------\n",
            "----1----1--\n",
            "----1--1-1--\n",
            "--1111-1-1--\n",
            "-----------1\n",
            "------------\n",
            "------------\n",
            "------------\n",
            "------------\n",
            "------------\n",
            "Demanda Cumplida Exacta: 40\n",
            "Demanda Total Exacta: 58\n",
            "Tiempo Exacto: 0.45784592628479004\n",
            "\n",
            "Solución Aproximada:\n",
            "1...........\n",
            "1......11111\n",
            "....1.......\n",
            "1...1.......\n",
            ".......111..\n",
            "..1111......\n",
            ".......111..\n",
            "............\n",
            "............\n",
            "............\n",
            "............\n",
            "............\n",
            "Demanda Cumplida Aproximada: 40\n",
            "Tiempo Aproximado: 0.0017600059509277344\n"
          ]
        }
      ]
    },
    {
      "cell_type": "code",
      "source": [
        "\n",
        "#15,10,15\n",
        "matriz = [[0] * 10 for _ in range(15)]\n",
        "barcos = [6, 2, 1, 8, 7, 2, 7, 2, 5, 8, 1, 8, 8, 1, 6]\n",
        "\n",
        "res_fil = [0, 3, 4, 1, 1, 4, 5, 0, 4, 5, 4, 2, 4, 3, 2]\n",
        "res_col = [0, 0, 3, 4, 1, 4, 6, 5, 2, 0]\n",
        "\n",
        "\n",
        "\n",
        "_, _, _, _, tiempo_exacto, tiempo_aproximado = ejecutar_ejemplo_aleatorio(\n",
        "    matriz, barcos, res_fil, res_col)\n",
        "\n"
      ],
      "metadata": {
        "colab": {
          "base_uri": "https://localhost:8080/"
        },
        "id": "rkrBMzsjQnNz",
        "outputId": "5d2f3e6e-8a5c-49fd-a9e2-95337e75a10b"
      },
      "execution_count": null,
      "outputs": [
        {
          "output_type": "stream",
          "name": "stdout",
          "text": [
            "Solución Exacta:\n",
            "----------\n",
            "--11--1---\n",
            "------1---\n",
            "------1---\n",
            "------1---\n",
            "--11--1-1-\n",
            "------1-1-\n",
            "----------\n",
            "--1-1--1--\n",
            "-------1--\n",
            "---1---1--\n",
            "-------1--\n",
            "-------1--\n",
            "----------\n",
            "----------\n",
            "Demanda Cumplida Exacta: 40\n",
            "Demanda Total Exacta: 67\n",
            "Tiempo Exacto: 0.02620410919189453\n",
            "\n",
            "Solución Aproximada:\n",
            "..........\n",
            "..1.1.1...\n",
            "..1...1...\n",
            "......1...\n",
            "......1...\n",
            "...1..1...\n",
            "...1..1...\n",
            "..........\n",
            "...1...1..\n",
            "...1...1..\n",
            ".......1..\n",
            "..1....1..\n",
            ".......1..\n",
            "..1.......\n",
            "..........\n",
            "Demanda Cumplida Aproximada: 40\n",
            "Tiempo Aproximado: 0.0002505779266357422\n"
          ]
        }
      ]
    },
    {
      "cell_type": "code",
      "source": [
        "\n",
        "\n",
        "#20 20 20\n",
        "matriz = [[0] * 20 for _ in range(20)]\n",
        "barcos = [5, 5, 6, 5, 1, 3, 1, 5, 1, 1, 1, 1, 2, 3, 1, 1, 6, 7, 7, 4]\n",
        "\n",
        "res_fil = [5, 0, 0, 6, 2, 1, 6, 3, 3, 1, 2, 4, 5, 5, 2, 5, 4, 0, 4, 5]\n",
        "res_col = [0, 5, 5, 0, 6, 2, 2, 6, 2, 1, 3, 1, 2, 3, 1, 4, 5, 2, 1, 6]\n",
        "\n",
        "\n",
        "\n",
        "\n",
        "_, _, _, _, tiempo_exacto, tiempo_aproximado = ejecutar_ejemplo_aleatorio(\n",
        "    matriz, barcos, res_fil, res_col)\n",
        "\n",
        "\n"
      ],
      "metadata": {
        "colab": {
          "base_uri": "https://localhost:8080/"
        },
        "id": "LIdq7HopQnVL",
        "outputId": "13dcf99b-cea6-4b2f-86ab-806085882406"
      },
      "execution_count": null,
      "outputs": [
        {
          "output_type": "stream",
          "name": "stdout",
          "text": [
            "Solución Exacta:\n",
            "----11111-----------\n",
            "--------------------\n",
            "--------------------\n",
            "----111111----------\n",
            "--1----------------1\n",
            "-------------------1\n",
            "----------11111----1\n",
            "--1-1--------------1\n",
            "--1----1-----------1\n",
            "-------------------1\n",
            "-1--------------1---\n",
            "-1--1--1--------1---\n",
            "-1--1--1--1-----1---\n",
            "-1--1--1----1---1---\n",
            "-1--------------1---\n",
            "----------1--1----1-\n",
            "--------------------\n",
            "--------------------\n",
            "--------------------\n",
            "--------------------\n",
            "Demanda Cumplida Exacta: 96\n",
            "Demanda Total Exacta: 120\n",
            "Tiempo Exacto: 0.13446974754333496\n",
            "\n",
            "Solución Aproximada:\n",
            ".....1..1...........\n",
            "....................\n",
            "....................\n",
            "..1.1.1.1...........\n",
            "..1.1...............\n",
            "....1...............\n",
            "..1.1..1............\n",
            "..1.1..1............\n",
            "..1.1..1............\n",
            ".......1............\n",
            ".1.....1............\n",
            ".1.....1..1.....1...\n",
            ".1...1....1.....1...\n",
            ".1......1.1.....1...\n",
            ".1..............1...\n",
            ".....1..........1...\n",
            "....................\n",
            "....................\n",
            ".....1..............\n",
            "....................\n",
            "Demanda Cumplida Aproximada: 76\n",
            "Tiempo Aproximado: 0.0016126632690429688\n"
          ]
        }
      ]
    },
    {
      "cell_type": "code",
      "source": [
        "\n",
        "#20,25,30\n",
        "matriz = [[0] * 25 for _ in range(20)]\n",
        "barcos = [9, 4, 11, 12, 12, 5, 5, 6, 9, 5, 12, 3, 3, 9, 1, 1, 6, 13, 7, 2, 4, 5, 4, 12, 4, 3, 10, 13, 13, 8]\n",
        "\n",
        "\n",
        "res_fil = [1, 2, 5, 10, 11, 0, 11, 11, 3, 9, 9, 3, 9, 6, 1, 8, 3, 11, 6, 7]\n",
        "\n",
        "res_col = [5, 4, 5, 2, 10, 1, 0, 8, 7, 6, 0, 5, 4, 8, 4, 7, 4, 0, 8, 5, 6, 2, 4, 9, 7]\n",
        "\n",
        "\n",
        "\n",
        "\n",
        "_, _, _, _, tiempo_exacto, tiempo_aproximado = ejecutar_ejemplo_aleatorio(\n",
        "    matriz, barcos, res_fil, res_col)\n",
        "\n"
      ],
      "metadata": {
        "colab": {
          "base_uri": "https://localhost:8080/"
        },
        "id": "ZNYQpOkyQUlD",
        "outputId": "0de29e4c-71a5-43ed-8d7a-b1e2db83bdac"
      },
      "execution_count": null,
      "outputs": [
        {
          "output_type": "stream",
          "name": "stdout",
          "text": [
            "Solución Exacta:\n",
            "1------------------------\n",
            "1-1----------------------\n",
            "1-1-----1------11--------\n",
            "1-1-----1---------1111111\n",
            "1-1--1--1--111111--------\n",
            "-------------------------\n",
            "--1-1--1-1-11111---------\n",
            "----1--1-1--------11111--\n",
            "----1--1-1---------------\n",
            "----1--1-1-11111---------\n",
            "----1--1-1--------111-111\n",
            "----1--1-1---------------\n",
            "----1--1---1111----------\n",
            "----1--1-----------------\n",
            "----1--------------------\n",
            "-1--1---1----------------\n",
            "-1------1----------------\n",
            "-1------1----------------\n",
            "-1------1----------------\n",
            "-------------------------\n",
            "Demanda Cumplida Exacta: 172\n",
            "Demanda Total Exacta: 247\n",
            "Tiempo Exacto: 0.19305634498596191\n",
            "\n",
            "Solución Aproximada:\n",
            "1.1......................\n",
            ".......11................\n",
            "11111....................\n",
            ".......111........1111111\n",
            "111111.....11111.........\n",
            ".........................\n",
            "...........111111.11111..\n",
            "111....111...............\n",
            ".........................\n",
            "...........11111.........\n",
            ".........................\n",
            ".........................\n",
            "...........1111..........\n",
            ".........................\n",
            ".........................\n",
            ".........................\n",
            ".........................\n",
            ".........................\n",
            ".........................\n",
            ".........................\n",
            "Demanda Cumplida Aproximada: 112\n",
            "Tiempo Aproximado: 0.014533519744873047\n"
          ]
        }
      ]
    },
    {
      "cell_type": "code",
      "source": [
        "\n",
        "#30,25,25\n",
        "matriz = [[0] * 25 for _ in range(30)]\n",
        "barcos = [10, 6, 6, 11, 14, 15, 8, 10, 1, 14, 7, 6, 16, 13, 16, 12, 1, 12, 5, 10, 4, 14, 13, 12, 4]\n",
        "\n",
        "\n",
        "res_fil = [3, 11, 11, 1, 2, 5, 4, 10, 5, 2, 12, 6, 12, 7, 0, 2, 0, 8, 10, 11, 6, 10, 0, 11, 5, 8, 6, 9, 8, 0]\n",
        "\n",
        "res_col = [3, 12, 1, 5, 14, 15, 6, 11, 2, 10, 12, 10, 6, 2, 7, 1, 5, 11, 5, 10, 7, 11, 4, 0, 5]\n",
        "\n",
        "\n",
        "\n",
        "\n",
        "\n",
        "_, _, _, _, tiempo_exacto, tiempo_aproximado = ejecutar_ejemplo_aleatorio(\n",
        "    matriz, barcos, res_fil, res_col)\n",
        "\n",
        "\n",
        "\n",
        "\n"
      ],
      "metadata": {
        "colab": {
          "base_uri": "https://localhost:8080/"
        },
        "id": "H8PhGJI-QUn2",
        "outputId": "2a16c961-b845-4629-fa6a-6902186c54b1"
      },
      "execution_count": null,
      "outputs": [
        {
          "output_type": "stream",
          "name": "stdout",
          "text": [
            "Solución Exacta:\n",
            "1---1-1------------------\n",
            "----1-----------1111111--\n",
            "11111----1111------------\n",
            "----1--------------------\n",
            "-1--1--------------------\n",
            "-1--1--------------------\n",
            "-1--1--------------------\n",
            "-1--1-----------111111---\n",
            "-1--1--------------------\n",
            "-1--1--------------------\n",
            "----1-11111111111--------\n",
            "----1--------------------\n",
            "----1-----------111111---\n",
            "----1--------------------\n",
            "-------------------------\n",
            "-------------------------\n",
            "-------------------------\n",
            "----------------11111----\n",
            "-----1111111111----------\n",
            "-------------------------\n",
            "-------------------------\n",
            "-------------------------\n",
            "-------------------------\n",
            "-------------------------\n",
            "-------------------------\n",
            "-------------------------\n",
            "-------------------------\n",
            "-------------------------\n",
            "-------------------------\n",
            "-------------------------\n",
            "Demanda Cumplida Exacta: 150\n",
            "Demanda Total Exacta: 360\n",
            "Tiempo Exacto: 0.45616745948791504\n",
            "\n",
            "Solución Aproximada:\n",
            "1...1....................\n",
            "....1....................\n",
            "1...1....................\n",
            "....1....................\n",
            ".1..1....................\n",
            ".1..1.1..................\n",
            ".1..1.1..................\n",
            ".1..1.1..................\n",
            ".1..1.1..................\n",
            ".1..1....................\n",
            ".1..1....................\n",
            ".1..1....................\n",
            ".1..1....................\n",
            ".1..1....................\n",
            ".........................\n",
            ".........................\n",
            ".........................\n",
            "...1.1...................\n",
            "...1.1...................\n",
            "...1.1...................\n",
            "...1.1...................\n",
            "...1.....................\n",
            ".........................\n",
            ".....1.1.1...............\n",
            ".....1.1.1...............\n",
            ".....1.1.1...............\n",
            ".....1.1.1...............\n",
            ".....1.1.1...............\n",
            ".....1.1.1...............\n",
            ".........................\n",
            "Demanda Cumplida Aproximada: 114\n",
            "Tiempo Aproximado: 0.013348817825317383\n"
          ]
        }
      ]
    },
    {
      "cell_type": "code",
      "source": [
        "import random\n",
        "import numpy as np\n",
        "import time\n",
        "import matplotlib.pyplot as plt\n",
        "\n",
        "n_tamanios = ['3_3_2.txt', '10_3_3.txt', '5_5_6.txt', '8_7_10.txt' , '10_10_10.txt',  '15_10_15.txt','12_12_21.txt','20_25_30.txt']\n",
        "tiempos_aprox = [0.00028371810913085938,0.00017786026000976562, 0.0001308917999267578, 0.00015664100646972656, 0.00020432472229003906, 0.00039577484130859375, 0.0012989044189453125,0.014533519744873047]\n",
        "tiempos_exacto = [0.00014591217041015625, 0.0008003711700439453,0.08788490295410156, 0.01371312141418457,  0.06358575820922852, 0.0004355907440185547, 0.33794665336608887, 0.33278870582580566]\n",
        "plt.figure(figsize=(10, 6))\n",
        "plt.plot(n_tamanios, tiempos_aprox, 'o-', label=\"Aproximación\", color='blue')\n",
        "plt.plot(n_tamanios, tiempos_exacto, 'o-', label=\"Backtracking\", color='red')\n",
        "\n",
        "plt.xlabel('Archivo de entrada (txt)')\n",
        "plt.ylabel('Tiempo de ejecución (s)')\n",
        "plt.legend()\n",
        "plt.title(\"Comparación de tiempos de ejecución entre backtracking y aproximacion\")\n",
        "plt.show()\n",
        "\n"
      ],
      "metadata": {
        "id": "luCWyS8xQUpU",
        "colab": {
          "base_uri": "https://localhost:8080/",
          "height": 565
        },
        "outputId": "ad5d5764-8dc4-49c8-8ddc-8153e4287964"
      },
      "execution_count": null,
      "outputs": [
        {
          "output_type": "display_data",
          "data": {
            "text/plain": [
              "<Figure size 1000x600 with 1 Axes>"
            ],
            "image/png": "[encoded data removed]"
          },
          "metadata": {}
        }
      ]
    },
    {
      "cell_type": "code",
      "source": [
        "import random\n",
        "import numpy as np\n",
        "import time\n",
        "import matplotlib.pyplot as plt\n",
        "\n",
        "n_tamanios = ['3_3_2.txt', '10_3_3.txt', '5_5_6.txt', '8_7_10.txt' , '10_10_10.txt',  '15_10_15.txt','12_12_21.txt','20_25_30.txt']\n",
        "tiempos_exacto = [6,6,12,26,38,40,40,172]\n",
        "tiempos_aprox = [6,6, 12, 26, 40, 40 , 40,112]\n",
        "plt.figure(figsize=(10, 6))\n",
        "plt.plot(n_tamanios, tiempos_aprox, 'o-', label=\"Aproximación\", color='blue')\n",
        "plt.plot(n_tamanios, tiempos_exacto, 'o-', label=\"Backtracking\", color='red')\n",
        "\n",
        "plt.xlabel('Archivo de entrada (txt)')\n",
        "plt.ylabel('Demanda cumplida')\n",
        "plt.legend()\n",
        "plt.title(\"Comparación de demanda cumplida entre backtracking y aproximacion\")\n",
        "plt.show()\n",
        "\n"
      ],
      "metadata": {
        "id": "axBKoCE7P5RY",
        "colab": {
          "base_uri": "https://localhost:8080/",
          "height": 565
        },
        "outputId": "dcfcdbe8-7890-434d-efbe-ca337b968aca"
      },
      "execution_count": null,
      "outputs": [
        {
          "output_type": "display_data",
          "data": {
            "text/plain": [
              "<Figure size 1000x600 with 1 Axes>"
            ],
            "image/png": "[encoded data removed]"
          },
          "metadata": {}
        }
      ]
    },
    {
      "cell_type": "code",
      "source": [],
      "metadata": {
        "id": "Zblu8MGAP5T2"
      },
      "execution_count": null,
      "outputs": []
    },
    {
      "cell_type": "code",
      "source": [],
      "metadata": {
        "id": "BXIda4F1P5WG"
      },
      "execution_count": null,
      "outputs": []
    },
    {
      "cell_type": "code",
      "source": [],
      "metadata": {
        "id": "OZNMUnjDP5YG"
      },
      "execution_count": null,
      "outputs": []
    },
    {
      "cell_type": "code",
      "source": [],
      "metadata": {
        "id": "BgVyNfFdP5aD"
      },
      "execution_count": null,
      "outputs": []
    },
    {
      "cell_type": "code",
      "source": [],
      "metadata": {
        "id": "J9Cp_UXAP5cB"
      },
      "execution_count": null,
      "outputs": []
    },
    {
      "cell_type": "code",
      "source": [],
      "metadata": {
        "id": "e5RBqxiBP5eD"
      },
      "execution_count": null,
      "outputs": []
    },
    {
      "cell_type": "code",
      "source": [],
      "metadata": {
        "id": "IDNSm_qSP5gZ"
      },
      "execution_count": null,
      "outputs": []
    },
    {
      "cell_type": "code",
      "source": [],
      "metadata": {
        "id": "rZ4q7C7CP5iS"
      },
      "execution_count": null,
      "outputs": []
    },
    {
      "cell_type": "code",
      "source": [],
      "metadata": {
        "id": "MdbcqtR4P5kW"
      },
      "execution_count": null,
      "outputs": []
    },
    {
      "cell_type": "code",
      "source": [],
      "metadata": {
        "id": "MMLwo4CeP5mi"
      },
      "execution_count": null,
      "outputs": []
    },
    {
      "cell_type": "code",
      "source": [],
      "metadata": {
        "id": "soz_CzETOwNT"
      },
      "execution_count": null,
      "outputs": []
    },
    {
      "cell_type": "code",
      "source": [],
      "metadata": {
        "id": "8LU17ZeAOwQX"
      },
      "execution_count": null,
      "outputs": []
    },
    {
      "cell_type": "code",
      "source": [],
      "metadata": {
        "id": "KqRXwCT-OwTA"
      },
      "execution_count": null,
      "outputs": []
    },
    {
      "cell_type": "code",
      "source": [],
      "metadata": {
        "id": "NuV5WXxHOwVT"
      },
      "execution_count": null,
      "outputs": []
    },
    {
      "cell_type": "code",
      "source": [],
      "metadata": {
        "id": "mR148EiPOwXX"
      },
      "execution_count": null,
      "outputs": []
    },
    {
      "cell_type": "code",
      "source": [],
      "metadata": {
        "id": "KrI60yK_5f-Y"
      },
      "execution_count": null,
      "outputs": []
    },
    {
      "cell_type": "code",
      "source": [],
      "metadata": {
        "id": "i9ScczYF5SCC"
      },
      "execution_count": null,
      "outputs": []
    },
    {
      "cell_type": "code",
      "source": [
        "m = [[0, 0, 0], [0, 0, 0], [0, 0, 0], [0, 0, 0], [0, 0, 0], [0, 0, 0], [0, 0, 0], [0, 0, 0], [0, 0, 0], [0, 0, 0]]\n",
        "[[0, 0, 0], [0, 0, 0], [0, 0, 0], [0, 0, 0], [0, 0, 0], [0, 0, 0], [0, 0, 0], [0, 0, 0], [0, 0, 0], [0, 0, 0]]\n",
        "[[0, 0, 0], [0, 0, 0], [0, 0, 0], [0, 0, 0], [0, 0, 0], [0, 0, 0], [0, 0, 0], [0, 1, 0], [0, 1, 0], [0, 1, 0]]\n",
        "[[0, 0, 0], [0, 0, 0], [0, 0, 0], [0, 0, 0], [0, 0, 0], [0, 0, 0], [0, 0, 0], [0, 1, 0], [0, 1, 0], [0, 1, 0]]\n",
        "[[0, 0, 0], [0, 0, 0], [0, 0, 0], [0, 0, 0], [0, 0, 0], [0, 0, 0], [0, 0, 0], [0, 0, 1], [0, 0, 1], [0, 0, 1]]\n",
        "[[0, 0, 0], [0, 0, 0], [0, 0, 0], [0, 0, 0], [0, 0, 0], [0, 0, 0], [0, 0, 0], [0, 0, 1], [0, 0, 1], [0, 0, 1]]\n",
        "[[0, 0, 0], [0, 0, 0], [0, 0, 0], [0, 0, 0], [0, 0, 0], [0, 0, 0], [0, 0, 0], [0, 0, 0], [0, 0, 0], [0, 0, 0]]\n",
        "[[0, 0, 0], [0, 0, 0], [0, 0, 0], [0, 0, 0], [0, 0, 0], [0, 0, 0], [0, 0, 0], [0, 1, 0], [0, 1, 0], [0, 1, 0]]\n",
        "[[0, 0, 0], [0, 0, 0], [0, 0, 0], [0, 0, 0], [0, 0, 0], [0, 0, 0], [0, 0, 0], [0, 1, 0], [0, 1, 0], [0, 1, 0]]"
      ],
      "metadata": {
        "id": "3ARzx2xn4lVg",
        "colab": {
          "base_uri": "https://localhost:8080/"
        },
        "outputId": "26ecea71-3090-41d3-aee8-ed2d9ec60169"
      },
      "execution_count": null,
      "outputs": [
        {
          "output_type": "execute_result",
          "data": {
            "text/plain": [
              "[[0, 0, 0],\n",
              " [0, 0, 0],\n",
              " [0, 0, 0],\n",
              " [0, 0, 0],\n",
              " [0, 0, 0],\n",
              " [0, 0, 0],\n",
              " [0, 0, 0],\n",
              " [0, 1, 0],\n",
              " [0, 1, 0],\n",
              " [0, 1, 0]]"
            ]
          },
          "metadata": {},
          "execution_count": 19
        }
      ]
    },
    {
      "cell_type": "code",
      "source": [],
      "metadata": {
        "id": "z8dtvYAV4lYE"
      },
      "execution_count": null,
      "outputs": []
    },
    {
      "cell_type": "code",
      "source": [],
      "metadata": {
        "id": "iwanjUrX4laf"
      },
      "execution_count": null,
      "outputs": []
    },
    {
      "cell_type": "code",
      "source": [],
      "metadata": {
        "id": "GsWDducm4lc3"
      },
      "execution_count": null,
      "outputs": []
    },
    {
      "cell_type": "code",
      "source": [],
      "metadata": {
        "id": "U41cmQUd4lfI"
      },
      "execution_count": null,
      "outputs": []
    },
    {
      "cell_type": "code",
      "source": [],
      "metadata": {
        "id": "OkhjKMyW4lhL"
      },
      "execution_count": null,
      "outputs": []
    },
    {
      "cell_type": "code",
      "source": [],
      "metadata": {
        "id": "kjUTSIa64ljb"
      },
      "execution_count": null,
      "outputs": []
    },
    {
      "cell_type": "code",
      "source": [],
      "metadata": {
        "id": "pRaB7RD24lll"
      },
      "execution_count": null,
      "outputs": []
    }
  ]
}