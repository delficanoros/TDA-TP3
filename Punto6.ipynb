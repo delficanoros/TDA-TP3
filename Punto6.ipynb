{
  "nbformat": 4,
  "nbformat_minor": 0,
  "metadata": {
    "colab": {
      "provenance": []
    },
    "kernelspec": {
      "name": "python3",
      "display_name": "Python 3"
    },
    "language_info": {
      "name": "python"
    }
  },
  "cells": [
    {
      "cell_type": "code",
      "execution_count": 4,
      "metadata": {
        "id": "heo6jluUqSim"
      },
      "outputs": [],
      "source": [
        "import random\n",
        "import numpy as np\n",
        "import time\n",
        "import matplotlib.pyplot as plt"
      ]
    },
    {
      "cell_type": "code",
      "source": [
        "\n",
        "def hay_adyacentes(solucion, x, y):\n",
        "    for i in [-1, 0, 1]:\n",
        "        for j in [-1, 0, 1]:\n",
        "            xi = x + i\n",
        "            yi = y + j\n",
        "            if (i != 0 or j != 0) and 0 <= xi < len(solucion) and 0 <= yi < len(solucion[0]):\n",
        "                if solucion[xi][yi] == 1:\n",
        "                    return True\n",
        "\n",
        "    return False\n",
        "\n",
        "\n",
        "def es_posicion_valida(matriz, barco, x, y, es_horizontal, restricciones_fils, restricciones_cols):\n",
        "    if es_horizontal:\n",
        "        # si no entra en la fila, no se puede agregar\n",
        "        if y + barco > len(matriz[0]):\n",
        "            return False\n",
        "\n",
        "        # si el barco ocupa más de lo pedido en la restricción de la fila, no se puede agregar\n",
        "        if barco > restricciones_fils[x]:\n",
        "            return False\n",
        "\n",
        "        for i in range(barco):\n",
        "            if matriz[x][y + i] == 1 or hay_adyacentes(matriz, x, y + i) or restricciones_cols[y + i] <= 0:\n",
        "                return False\n",
        "        return True\n",
        "    else:\n",
        "        if x + barco > len(matriz):\n",
        "            return False\n",
        "\n",
        "        if barco > restricciones_cols[y]:\n",
        "            return False\n",
        "\n",
        "        for i in range(barco):\n",
        "            if matriz[x+i][y] == 1 or hay_adyacentes(matriz, x+i, y) or restricciones_fils[x+i] <= 0:\n",
        "                return False\n",
        "        return True\n",
        "\n",
        "\n",
        "\n",
        "def buscar_posicion(matriz, barco, restricciones_fils, restricciones_cols):\n",
        "    max_restriccion_fila = max(restricciones_fils)\n",
        "    max_restriccion_columna = max(restricciones_cols)\n",
        "    if max_restriccion_fila >= max_restriccion_columna:\n",
        "        fila = restricciones_fils.index(max_restriccion_fila)\n",
        "        for j in range(len(matriz[0])):\n",
        "            if es_posicion_valida(matriz, barco, fila, j, True, restricciones_fils, restricciones_cols):\n",
        "                return fila, j, True\n",
        "\n",
        "    else:\n",
        "        columna = restricciones_cols.index(max_restriccion_columna)\n",
        "        for i in range(len(matriz)):\n",
        "            if es_posicion_valida(matriz, barco, i, columna, False, restricciones_fils, restricciones_cols):\n",
        "                return i, columna, False\n",
        "\n",
        "    return -1, -1, False\n",
        "\n",
        "def colocar_barco_y_ocupar_casilleros(matriz, barco, x, y, es_horizontal, restricciones_fils, restricciones_cols):\n",
        "    if barco == 1:\n",
        "        matriz[x][y] = 1\n",
        "        restricciones_fils[x] -= 1\n",
        "        restricciones_cols[y] -= 1\n",
        "    elif es_horizontal:\n",
        "        for i in range(barco):\n",
        "            matriz[x][y + i] = 1\n",
        "            restricciones_fils[x] -= 1\n",
        "            restricciones_cols[y+i] -= 1\n",
        "    else:\n",
        "        for i in range(barco):\n",
        "            matriz[x + i][y] = 1\n",
        "            restricciones_fils[x+i] -= 1\n",
        "            restricciones_cols[y] -= 1\n",
        "\n",
        "\n",
        "# asumo que recibo una matriz llena de 0s\n",
        "def aproximacion(matriz, barcos, restricciones_fils, restricciones_cols):\n",
        "    barcos.sort(reverse=True)\n",
        "\n",
        "    for barco in barcos:  # empiezo con los de mayor tamaño\n",
        "        x, y, es_horizontal = buscar_posicion(\n",
        "            matriz, barco, restricciones_fils, restricciones_cols)\n",
        "        if x != -1:\n",
        "            colocar_barco_y_ocupar_casilleros(\n",
        "                matriz, barco, x, y, es_horizontal, restricciones_fils, restricciones_cols)\n",
        "\n",
        "    return matriz\n"
      ],
      "metadata": {
        "id": "sxx4XtZzqW08"
      },
      "execution_count": 5,
      "outputs": []
    },
    {
      "cell_type": "code",
      "source": [
        "\n",
        "def hay_adyacentes(solucion, x, y):\n",
        "    for i in [-1, 0, 1]:\n",
        "        for j in [-1, 0, 1]:\n",
        "            xi = x + i\n",
        "            yi = y + j\n",
        "            if (i != 0 or j != 0) and 0 <= xi < len(solucion) and 0 <= yi < len(solucion[0]):\n",
        "                if solucion[xi][yi] == 1:\n",
        "                    return True\n",
        "    return False\n",
        "\n",
        "\n",
        "def se_puede_ubicar(matriz, fil, col, largo, orientacion, restricciones_fil, restricciones_col):\n",
        "    n, m = len(matriz), len(matriz[0])\n",
        "    if (orientacion == \"horizontal\" and col + largo > m) or (orientacion == \"vertical\" and fil + largo > n):\n",
        "        return False\n",
        "\n",
        "    for k in range(largo):\n",
        "        x, y = (fil, col + k) if orientacion == \"horizontal\" else (fil + k, col)\n",
        "        if matriz[x][y] == 1 or hay_adyacentes(matriz, x, y):\n",
        "            return False\n",
        "\n",
        "    if orientacion == \"horizontal\":\n",
        "        if sum(matriz[fil]) + largo > restricciones_fil[fil]:\n",
        "            return False\n",
        "        for i in range(largo):\n",
        "            if sum(matriz[r][col + i] for r in range(n)) + 1 > restricciones_col[col + i]:\n",
        "                return False\n",
        "    elif orientacion == \"vertical\":\n",
        "        if sum(matriz[r][col] for r in range(n)) + largo > restricciones_col[col]:\n",
        "            return False\n",
        "        for i in range(largo):\n",
        "            if sum(matriz[fil + i]) + 1 > restricciones_fil[fil + i]:\n",
        "                return False\n",
        "\n",
        "    return True\n",
        "\n",
        "\n",
        "def actualizar_posicion_matriz(matriz, i, j, largo, orientacion, value):\n",
        "    for k in range(largo):\n",
        "        fil, col = (i, j + k) if orientacion == \"horizontal\" else (i + k, j)\n",
        "        matriz[fil][col] = value\n",
        "\n",
        "\n",
        "def calcular_demanda(matriz, restricciones_fil, restricciones_col):\n",
        "    n, m = len(matriz), len(matriz[0])\n",
        "    suma_filas = sum(\n",
        "        [sum(matriz[i]) for i in range(n)])\n",
        "    suma_columnas = sum(\n",
        "        [sum(matriz[i][j] for i in range(n)) for j in range(m)])\n",
        "    total_filas = sum(restricciones_fil)\n",
        "    total_cols = sum(restricciones_col)\n",
        "    demanda_llena = suma_columnas + suma_filas\n",
        "    demanda_total = total_filas + total_cols\n",
        "    return demanda_llena, demanda_total\n",
        "\n",
        "\n",
        "def batalla_naval(matriz, barcos, restricciones_fil, restricciones_col):\n",
        "    barcos = sorted(barcos, reverse=True)  # ordeno para mejorar la complejidad\n",
        "    posiciones = [None] * len(barcos)\n",
        "    mejor_solucion = matriz\n",
        "    return batalla_naval_bk(matriz, barcos, restricciones_fil, restricciones_col, 0, posiciones, mejor_solucion, 0, posiciones)\n",
        "\n",
        "\n",
        "def batalla_naval_bk(matriz, barcos, restricciones_fil, restricciones_col, index, posiciones, mejor_solucion, mejor_demanda, mejor_posiciones):\n",
        "    demanda_parcial, _ = calcular_demanda(\n",
        "        matriz, restricciones_fil, restricciones_col)\n",
        "    if index == len(barcos):\n",
        "        if demanda_parcial > mejor_demanda:\n",
        "            return demanda_parcial, [col[:] for col in matriz], posiciones[:]\n",
        "        return mejor_demanda, mejor_solucion, mejor_posiciones\n",
        "\n",
        "    if index > len(barcos):\n",
        "        return mejor_demanda, mejor_solucion, mejor_posiciones\n",
        "\n",
        "    if demanda_parcial + sum(barcos[i] for i in range(index, len(barcos))) < mejor_demanda:\n",
        "        return mejor_demanda, mejor_solucion, mejor_posiciones\n",
        "\n",
        "    largo_barco = barcos[index]\n",
        "    for i in range(len(matriz)):\n",
        "        for j in range(len(matriz[0])):\n",
        "            if matriz[i][j] == 1:\n",
        "                continue\n",
        "            for orientacion in [\"horizontal\", \"vertical\"]:\n",
        "                if se_puede_ubicar(matriz, i, j, largo_barco, orientacion, restricciones_fil, restricciones_col):\n",
        "                    posiciones[index] = (\n",
        "                        (i, j), (i + largo_barco - 1, j) if orientacion == \"vertical\" else (i, j + largo_barco - 1))\n",
        "\n",
        "                    actualizar_posicion_matriz(\n",
        "                        matriz, i, j, largo_barco, orientacion, 1)\n",
        "\n",
        "                    posible_demanda, posible_solucion, posible_posiciones = batalla_naval_bk(\n",
        "                        matriz, barcos, restricciones_fil, restricciones_col, index + 1, posiciones, mejor_solucion, mejor_demanda, mejor_posiciones)\n",
        "                    if posible_demanda > mejor_demanda:\n",
        "                        mejor_demanda = posible_demanda\n",
        "                        mejor_solucion = posible_solucion\n",
        "                        mejor_posiciones = posible_posiciones\n",
        "\n",
        "                    actualizar_posicion_matriz(\n",
        "                        matriz, i, j, largo_barco, orientacion, 0)\n",
        "                    posiciones[index] = None\n",
        "\n",
        "    posible_demanda2, posible_solucion2, posible_posiciones2 = batalla_naval_bk(\n",
        "        matriz, barcos, restricciones_fil, restricciones_col, index + 1, posiciones, mejor_solucion, mejor_demanda, mejor_posiciones)\n",
        "    if posible_demanda2 > mejor_demanda:\n",
        "        mejor_demanda = posible_demanda2\n",
        "        mejor_solucion = posible_solucion2[:]\n",
        "        mejor_posiciones = posible_posiciones2[:]\n",
        "\n",
        "    return mejor_demanda, mejor_solucion, mejor_posiciones\n",
        "\n",
        "\n",
        "\n",
        "def backtracking(matriz, barcos, restricciones_fil, restricciones_col):\n",
        "    barcos = sorted(barcos, reverse=True)  # ordeno para mejorar la complejidad\n",
        "    posiciones = [None] * len(barcos)\n",
        "    mejor_solucion = matriz\n",
        "    return batalla_naval_bk(matriz, barcos, restricciones_fil, restricciones_col, 0, posiciones, mejor_solucion, 0, posiciones)\n"
      ],
      "metadata": {
        "id": "8_p2bef2qjEh"
      },
      "execution_count": 6,
      "outputs": []
    },
    {
      "cell_type": "code",
      "source": [
        "def calcular_demanda2(matriz, restricciones_fil, restricciones_col):\n",
        "    n, m = len(matriz), len(matriz[0])\n",
        "    suma_filas = sum(\n",
        "        [sum(matriz[i]) for i in range(n)])\n",
        "    suma_columnas = sum(\n",
        "        [sum(matriz[i][j] for i in range(n)) for j in range(m)])\n",
        "    total_filas = sum(restricciones_fil)\n",
        "    total_cols = sum(restricciones_col)\n",
        "    demanda_llena = suma_columnas + suma_filas\n",
        "    demanda_total = total_filas + total_cols\n",
        "    return demanda_llena, demanda_total"
      ],
      "metadata": {
        "id": "Z54hVJ1aIxOe"
      },
      "execution_count": 7,
      "outputs": []
    },
    {
      "cell_type": "code",
      "source": [
        "from copy import deepcopy\n",
        "\n",
        "\n",
        "def ejecutar_ejemplo_aleatorio(matriz, barcos, restricciones_fil, restricciones_col):\n",
        "    matriz_copia = deepcopy(matriz)\n",
        "    matriz_copia2 = deepcopy(matriz)\n",
        "    restricciones_fil_copia = deepcopy(restricciones_fil)\n",
        "    restricciones_fil_copia2 = deepcopy(restricciones_fil)\n",
        "    restricciones_col_copia = deepcopy(restricciones_col)\n",
        "    restricciones_col_copia2 = deepcopy(restricciones_col)\n",
        "\n",
        "    start_time = time.time()\n",
        "    demanda_exacta, solucion_exacta, _ = batalla_naval(\n",
        "        matriz_copia, barcos, restricciones_fil_copia, restricciones_col_copia)\n",
        "    tiempo_exacto = time.time() - start_time\n",
        "\n",
        "    _, demanda_total_exacta = calcular_demanda(\n",
        "        solucion_exacta, restricciones_fil_copia, restricciones_col_copia)\n",
        "\n",
        "    start_time = time.time()\n",
        "    solucion_aproximada = aproximacion(\n",
        "        matriz_copia2, barcos, restricciones_fil_copia2, restricciones_col_copia2)\n",
        "    tiempo_aproximado = time.time() - start_time\n",
        "\n",
        "    demanda_aproximada, _ = calcular_demanda2(\n",
        "        solucion_aproximada, restricciones_fil_copia2, restricciones_col_copia2)\n",
        "\n",
        "    # Impresión de resultados\n",
        "    print(\"Solución Exacta:\")\n",
        "    for fila in solucion_exacta:\n",
        "        print(\"\".join([\"1\" if i == 1 else \"-\" for i in fila]))\n",
        "    print(\"Demanda Cumplida Exacta:\", demanda_exacta)\n",
        "    print(\"Demanda Total Exacta:\", demanda_total_exacta)\n",
        "    print(\"Tiempo Exacto:\", tiempo_exacto)\n",
        "\n",
        "    print(\"\\nSolución Aproximada:\")\n",
        "    for fila in solucion_aproximada:\n",
        "        print(\"\".join([\"1\" if i == 1 else \".\" for i in fila]))\n",
        "    print(\"Demanda Cumplida Aproximada:\", demanda_aproximada)\n",
        "    print(\"Tiempo Aproximado:\", tiempo_aproximado)\n",
        "\n",
        "    return solucion_exacta, demanda_exacta, solucion_aproximada, demanda_aproximada, tiempo_exacto, tiempo_aproximado"
      ],
      "metadata": {
        "id": "Rarx2xKCRGck"
      },
      "execution_count": 8,
      "outputs": []
    },
    {
      "cell_type": "code",
      "source": [],
      "metadata": {
        "id": "bKcsCR0oIuvf"
      },
      "execution_count": 8,
      "outputs": []
    },
    {
      "cell_type": "code",
      "source": [
        "import time\n",
        "matriz1 = [[0]*2 for _ in range(2)]\n",
        "barcos1 = [1]\n",
        "res_fil1 = [1,1]\n",
        "res_col1 = [1,1]\n",
        "\n",
        "_, _, _, _, tiempo_exacto1, tiempo_aproximado1 = ejecutar_ejemplo_aleatorio(\n",
        "    matriz1, barcos1, res_fil1, res_col1)\n",
        "print(\"\")\n",
        "matriz2 = [[0] * 3 for _ in range(3)]\n",
        "barcos2 = [2,1,1]\n",
        "res_fil2 = [2,1,2]\n",
        "res_col2 = [2,2,1]\n",
        "\n",
        "_, _, _, _, tiempo_exacto2, tiempo_aproximado2 = ejecutar_ejemplo_aleatorio(\n",
        "    matriz2, barcos2, res_fil2, res_col2)\n",
        "\n",
        "print(\"\")\n",
        "\n",
        "matriz3 = [[0] * 3 for _ in range(4)]\n",
        "barcos3 = [4,1,1]\n",
        "res_fil3 = [1,1,1,1]\n",
        "res_col3 = [4,0,0]\n",
        "\n",
        "_, _, _, _, tiempo_exacto3, tiempo_aproximado3 = ejecutar_ejemplo_aleatorio(\n",
        "    matriz3, barcos3, res_fil3, res_col3)\n",
        "\n",
        "\n",
        "matriz4 = [[0] * 4 for _ in range(4)]\n",
        "barcos4 = []\n",
        "res_fil4 = [1,2,1,2]\n",
        "res_col4 = [2,1,2,1]\n",
        "\n",
        "_, _, _, _, tiempo_exacto4, tiempo_aproximado4 = ejecutar_ejemplo_aleatorio(\n",
        "    matriz4, barcos4, res_fil4, res_col4)\n",
        "\n",
        "\n",
        "matriz5 = [[0] * 4 for _ in range(4)]\n",
        "barcos5 = [4,3,3,2]\n",
        "res_fil5 = [4,4,4,4]\n",
        "res_col5 = [4,4,4,4]\n",
        "\n",
        "_, _, _, _, tiempo_exacto5, tiempo_aproximado5 = ejecutar_ejemplo_aleatorio(\n",
        "    matriz5, barcos5, res_fil5, res_col5)\n",
        "\n",
        "\n",
        "matriz6 = [[0] * 5 for _ in range(5)]\n",
        "barcos6 = [1,2]\n",
        "res_fil6 = [0,0, 1, 0, 0]\n",
        "res_col6 = [0,0,1,0,0]\n",
        "\n",
        "_, _, _, _, tiempo_exacto6, tiempo_aproximado6 = ejecutar_ejemplo_aleatorio(\n",
        "    matriz6, barcos6, res_fil6, res_col6)"
      ],
      "metadata": {
        "colab": {
          "base_uri": "https://localhost:8080/"
        },
        "id": "jTdxb_Uo6U7F",
        "outputId": "a4eee4e5-03c4-44cc-bbcb-e807d4254eb0"
      },
      "execution_count": 9,
      "outputs": [
        {
          "output_type": "stream",
          "name": "stdout",
          "text": [
            "Solución Exacta:\n",
            "1-\n",
            "--\n",
            "Demanda Cumplida Exacta: 2\n",
            "Demanda Total Exacta: 4\n",
            "Tiempo Exacto: 0.00022101402282714844\n",
            "\n",
            "Solución Aproximada:\n",
            "1.\n",
            "..\n",
            "Demanda Cumplida Aproximada: 2\n",
            "Tiempo Aproximado: 2.2411346435546875e-05\n",
            "\n",
            "Solución Exacta:\n",
            "11-\n",
            "---\n",
            "1-1\n",
            "Demanda Cumplida Exacta: 8\n",
            "Demanda Total Exacta: 10\n",
            "Tiempo Exacto: 0.0006306171417236328\n",
            "\n",
            "Solución Aproximada:\n",
            "11.\n",
            "...\n",
            "1..\n",
            "Demanda Cumplida Aproximada: 6\n",
            "Tiempo Aproximado: 4.601478576660156e-05\n",
            "\n",
            "Solución Exacta:\n",
            "1--\n",
            "1--\n",
            "1--\n",
            "1--\n",
            "Demanda Cumplida Exacta: 8\n",
            "Demanda Total Exacta: 8\n",
            "Tiempo Exacto: 0.00031566619873046875\n",
            "\n",
            "Solución Aproximada:\n",
            "1..\n",
            "1..\n",
            "1..\n",
            "1..\n",
            "Demanda Cumplida Aproximada: 8\n",
            "Tiempo Aproximado: 5.054473876953125e-05\n",
            "Solución Exacta:\n",
            "----\n",
            "----\n",
            "----\n",
            "----\n",
            "Demanda Cumplida Exacta: 0\n",
            "Demanda Total Exacta: 12\n",
            "Tiempo Exacto: 1.6450881958007812e-05\n",
            "\n",
            "Solución Aproximada:\n",
            "....\n",
            "....\n",
            "....\n",
            "....\n",
            "Demanda Cumplida Aproximada: 0\n",
            "Tiempo Aproximado: 1.6689300537109375e-06\n",
            "Solución Exacta:\n",
            "1111\n",
            "----\n",
            "111-\n",
            "----\n",
            "Demanda Cumplida Exacta: 14\n",
            "Demanda Total Exacta: 32\n",
            "Tiempo Exacto: 0.0031118392944335938\n",
            "\n",
            "Solución Aproximada:\n",
            "1111\n",
            "....\n",
            "....\n",
            "....\n",
            "Demanda Cumplida Aproximada: 8\n",
            "Tiempo Aproximado: 4.172325134277344e-05\n",
            "Solución Exacta:\n",
            "-----\n",
            "-----\n",
            "--1--\n",
            "-----\n",
            "-----\n",
            "Demanda Cumplida Exacta: 2\n",
            "Demanda Total Exacta: 2\n",
            "Tiempo Exacto: 0.0011200904846191406\n",
            "\n",
            "Solución Aproximada:\n",
            ".....\n",
            ".....\n",
            "..1..\n",
            ".....\n",
            ".....\n",
            "Demanda Cumplida Aproximada: 2\n",
            "Tiempo Aproximado: 4.124641418457031e-05\n"
          ]
        }
      ]
    },
    {
      "cell_type": "code",
      "source": [
        "import random\n",
        "import numpy as np\n",
        "import time\n",
        "import matplotlib.pyplot as plt\n",
        "\n",
        "n_tamanios = ['2_2_1.txt', '3_3_3.txt', '4_3_3.txt', '4_4_0.txt' , '4_4_4.txt',  '5_5_2.txt']\n",
        "tiempos_aprox = [0.00002431, 0.00004863, 0.00002503, 0.0000011920, 0.0000412464, 0.000016450881]\n",
        "tiempos_exacto = [0.000283, 0.000712633, 0.00048255, 0.0000154, 0.00407981, 0.000536441]\n",
        "plt.figure(figsize=(10, 6))\n",
        "plt.plot(n_tamanios, tiempos_aprox, 'o-', label=\"Aproximación\", color='blue')\n",
        "plt.plot(n_tamanios, tiempos_exacto, 'o-', label=\"Backtracking\", color='red')\n",
        "\n",
        "plt.xlabel('Archivo de entrada (txt)')\n",
        "plt.ylabel('Tiempo de ejecución (s)')\n",
        "plt.legend()\n",
        "plt.title(\"Comparación de tiempos de ejecución entre backtracking y aproximacion\")\n",
        "plt.show()"
      ],
      "metadata": {
        "id": "qkYPVnq56U-W",
        "colab": {
          "base_uri": "https://localhost:8080/",
          "height": 565
        },
        "outputId": "dbeb52c1-8488-44a6-fee8-c5e265f6b01e"
      },
      "execution_count": 10,
      "outputs": [
        {
          "output_type": "display_data",
          "data": {
            "text/plain": [
              "<Figure size 1000x600 with 1 Axes>"
            ],
            "image/png": "[encoded data removed]"
          },
          "metadata": {}
        }
      ]
    },
    {
      "cell_type": "code",
      "source": [
        "import random\n",
        "import numpy as np\n",
        "import time\n",
        "import matplotlib.pyplot as plt\n",
        "\n",
        "n_tamanios = ['2_2_1.txt', '3_3_3.txt', '4_3_3.txt', '4_4_0.txt' , '4_4_4.txt',  '5_5_2.txt']\n",
        "tiempos_exacto = [2,8,8,0,14,2]\n",
        "tiempos_aprox = [2,6,8,0,8, 2]\n",
        "plt.figure(figsize=(10, 6))\n",
        "plt.plot(n_tamanios, tiempos_aprox, 'o-', label=\"Aproximación\", color='blue')\n",
        "plt.plot(n_tamanios, tiempos_exacto, 'o-', label=\"Backtracking\", color='red')\n",
        "\n",
        "plt.xlabel('Archivo de entrada (txt)')\n",
        "plt.ylabel('Demanda cumplida')\n",
        "plt.legend()\n",
        "plt.title(\"Comparación de demanda cumplida entre backtracking y aproximacion\")\n",
        "plt.show()\n",
        "\n",
        "\n"
      ],
      "metadata": {
        "id": "AulNCTIc6VAy",
        "colab": {
          "base_uri": "https://localhost:8080/",
          "height": 565
        },
        "outputId": "caf01462-1546-453c-e87c-0d54df4465fd"
      },
      "execution_count": 11,
      "outputs": [
        {
          "output_type": "display_data",
          "data": {
            "text/plain": [
              "<Figure size 1000x600 with 1 Axes>"
            ],
            "image/png": "[encoded data removed]"
          },
          "metadata": {}
        }
      ]
    },
    {
      "cell_type": "code",
      "source": [],
      "metadata": {
        "id": "OZE7TBjD6VC6"
      },
      "execution_count": 11,
      "outputs": []
    },
    {
      "cell_type": "code",
      "source": [],
      "metadata": {
        "id": "f53n5RAJ6VFB"
      },
      "execution_count": 11,
      "outputs": []
    },
    {
      "cell_type": "code",
      "source": [],
      "metadata": {
        "id": "45BpOl4nqpEp"
      },
      "execution_count": 11,
      "outputs": []
    },
    {
      "cell_type": "code",
      "source": [],
      "metadata": {
        "id": "yMWes0u2O9w3"
      },
      "execution_count": 11,
      "outputs": []
    },
    {
      "cell_type": "code",
      "source": [
        "\n",
        "import time\n",
        "matriz1 = [[0]*5 for _ in range(3)]\n",
        "barcos1 = [5, 3, 2]\n",
        "res_fil1 = [5, 2, 3]\n",
        "res_col1 = [1, 1, 2, 2, 2]\n",
        "\n",
        "_, _, _, _, tiempo_exacto1, tiempo_aproximado1 = ejecutar_ejemplo_aleatorio(\n",
        "    matriz1, barcos1, res_fil1, res_col1)\n",
        "print(\"\")\n",
        "matriz2 = [[0] * 5 for _ in range(5)]\n",
        "barcos2 = [5, 4, 3]\n",
        "res_fil2 = [5, 5, 4, 3, 0]\n",
        "res_col2 = [5, 5, 0, 2, 5]\n",
        "\n",
        "_, _, _, _, tiempo_exacto2, tiempo_aproximado2 = ejecutar_ejemplo_aleatorio(\n",
        "    matriz2, barcos2, res_fil2, res_col2)\n",
        "\n",
        "print(\"\")\n",
        "\n",
        "matriz3 = [[0] * 6 for _ in range(6)]\n",
        "barcos3 = [6, 5, 4, 3]\n",
        "res_fil3 = [6, 5, 4, 3, 0, 0]\n",
        "res_col3 = [3, 3, 3, 5, 5, 5]\n",
        "\n",
        "_, _, _, _, tiempo_exacto3, tiempo_aproximado3 = ejecutar_ejemplo_aleatorio(\n",
        "    matriz3, barcos3, res_fil3, res_col3)"
      ],
      "metadata": {
        "colab": {
          "base_uri": "https://localhost:8080/"
        },
        "id": "9tHdgl4WqtkV",
        "outputId": "35f69409-bd05-4179-aab7-a6a2d43dcd5d"
      },
      "execution_count": 12,
      "outputs": [
        {
          "output_type": "stream",
          "name": "stdout",
          "text": [
            "Solución Exacta:\n",
            "11111\n",
            "-----\n",
            "--111\n",
            "Demanda Cumplida Exacta: 16\n",
            "Demanda Total Exacta: 18\n",
            "Tiempo Exacto: 0.00039649009704589844\n",
            "\n",
            "Solución Aproximada:\n",
            "11111\n",
            ".....\n",
            "..111\n",
            "Demanda Cumplida Aproximada: 16\n",
            "Tiempo Aproximado: 8.535385131835938e-05\n",
            "\n",
            "Solución Exacta:\n",
            "1---1\n",
            "1---1\n",
            "1---1\n",
            "1----\n",
            "-----\n",
            "Demanda Cumplida Exacta: 14\n",
            "Demanda Total Exacta: 34\n",
            "Tiempo Exacto: 0.0008716583251953125\n",
            "\n",
            "Solución Aproximada:\n",
            ".....\n",
            ".....\n",
            ".....\n",
            ".....\n",
            ".....\n",
            "Demanda Cumplida Aproximada: 0\n",
            "Tiempo Aproximado: 5.435943603515625e-05\n",
            "\n",
            "Solución Exacta:\n",
            "111111\n",
            "------\n",
            "1111--\n",
            "------\n",
            "------\n",
            "------\n",
            "Demanda Cumplida Exacta: 20\n",
            "Demanda Total Exacta: 42\n",
            "Tiempo Exacto: 0.0013859272003173828\n",
            "\n",
            "Solución Aproximada:\n",
            "111111\n",
            "......\n",
            "......\n",
            "......\n",
            "......\n",
            "......\n",
            "Demanda Cumplida Aproximada: 12\n",
            "Tiempo Aproximado: 4.839897155761719e-05\n"
          ]
        }
      ]
    },
    {
      "cell_type": "code",
      "source": [],
      "metadata": {
        "id": "GBLXWQB51iBk"
      },
      "execution_count": 12,
      "outputs": []
    },
    {
      "cell_type": "code",
      "source": [
        "#asdasdasd"
      ],
      "metadata": {
        "id": "jlI_0-hN4kUk"
      },
      "execution_count": 13,
      "outputs": []
    },
    {
      "cell_type": "code",
      "source": [
        "matriz_10_3_3 = [[0] * 3 for _ in range(10)]\n",
        "barcos_10_3_3 = [3, 3, 4]\n",
        "res_fil_10_3_3 = [1,0,1,0,1,0,0,1,1,1]\n",
        "res_col_10_3_3 = [1, 4, 3]\n",
        "\n",
        "\n",
        "_, _, _, _, tiempo_exacto_10_3_3, tiempo_aproximado_10_3_3 = ejecutar_ejemplo_aleatorio(\n",
        "    matriz_10_3_3, barcos_10_3_3, res_fil_10_3_3, res_col_10_3_3)\n"
      ],
      "metadata": {
        "colab": {
          "base_uri": "https://localhost:8080/"
        },
        "id": "G1aZao2c4lRg",
        "outputId": "17ad6f96-3093-41bd-e2e3-78096dc0f057"
      },
      "execution_count": 14,
      "outputs": [
        {
          "output_type": "stream",
          "name": "stdout",
          "text": [
            "Solución Exacta:\n",
            "---\n",
            "---\n",
            "---\n",
            "---\n",
            "---\n",
            "---\n",
            "---\n",
            "-1-\n",
            "-1-\n",
            "-1-\n",
            "Demanda Cumplida Exacta: 6\n",
            "Demanda Total Exacta: 14\n",
            "Tiempo Exacto: 0.0018718242645263672\n",
            "\n",
            "Solución Aproximada:\n",
            "...\n",
            "...\n",
            "...\n",
            "...\n",
            "...\n",
            "...\n",
            "...\n",
            ".1.\n",
            ".1.\n",
            ".1.\n",
            "Demanda Cumplida Aproximada: 6\n",
            "Tiempo Aproximado: 0.00021982192993164062\n"
          ]
        }
      ]
    },
    {
      "cell_type": "code",
      "source": [
        "matriz_3_3_2 = [[0] * 3 for _ in range(3)]\n",
        "barcos_3_3_2 = [3, 1]\n",
        "res_fil_3_3_2 = [3, 1, 2]\n",
        "res_col_3_3_2 = [3, 2, 0]\n",
        "\n",
        "\n",
        "_, _, _, _, tiempo_exacto_3_3_2, tiempo_aproximado_3_3_2 = ejecutar_ejemplo_aleatorio(\n",
        "    matriz_3_3_2, barcos_3_3_2, res_fil_3_3_2, res_col_3_3_2)\n"
      ],
      "metadata": {
        "colab": {
          "base_uri": "https://localhost:8080/"
        },
        "id": "7QlO-HTROvEQ",
        "outputId": "0a5f33b5-9121-45b1-9f40-79a2fe0f233b"
      },
      "execution_count": 15,
      "outputs": [
        {
          "output_type": "stream",
          "name": "stdout",
          "text": [
            "Solución Exacta:\n",
            "1--\n",
            "1--\n",
            "1--\n",
            "Demanda Cumplida Exacta: 6\n",
            "Demanda Total Exacta: 11\n",
            "Tiempo Exacto: 0.0002300739288330078\n",
            "\n",
            "Solución Aproximada:\n",
            "1..\n",
            "...\n",
            "...\n",
            "Demanda Cumplida Aproximada: 2\n",
            "Tiempo Aproximado: 2.47955322265625e-05\n"
          ]
        }
      ]
    },
    {
      "cell_type": "code",
      "source": [
        "matriz_5_5_6 = [[0] * 5 for _ in range(5)]\n",
        "barcos_5_5_6 = [1,2,2,2,2,1]\n",
        "res_fil_5_5_6 = [3,3,0,1,1]\n",
        "res_col_5_5_6 = [3,1,0,3,3]\n",
        "\n",
        "\n",
        "_, _, _, _, tiempo_exacto_5_5_6, tiempo_aproximado_5_5_6 = ejecutar_ejemplo_aleatorio(\n",
        "    matriz_5_5_6, barcos_5_5_6, res_fil_5_5_6, res_col_5_5_6)\n"
      ],
      "metadata": {
        "colab": {
          "base_uri": "https://localhost:8080/"
        },
        "id": "D7e5x4-QPTDD",
        "outputId": "bd745529-0d71-4352-828b-8685d4a86de1"
      },
      "execution_count": 16,
      "outputs": [
        {
          "output_type": "stream",
          "name": "stdout",
          "text": [
            "Solución Exacta:\n",
            "11-1-\n",
            "---1-\n",
            "-----\n",
            "1----\n",
            "1----\n",
            "Demanda Cumplida Exacta: 12\n",
            "Demanda Total Exacta: 18\n",
            "Tiempo Exacto: 0.16245770454406738\n",
            "\n",
            "Solución Aproximada:\n",
            "11...\n",
            "...11\n",
            ".....\n",
            "1....\n",
            "1....\n",
            "Demanda Cumplida Aproximada: 12\n",
            "Tiempo Aproximado: 9.512901306152344e-05\n"
          ]
        }
      ]
    },
    {
      "cell_type": "code",
      "source": [
        "#8 7 10\n",
        "\n",
        "\n",
        "matriz = [[0] * 7 for _ in range(8)]\n",
        "barcos = [2,1,2,2,1,3,2,7,7,7]\n",
        "res_fil = [1,4,4,4,3,3,4,4]\n",
        "res_col = [6,5,3,0,6,3,3]\n",
        "\n",
        "\n",
        "_, _, _, _, tiempo_exacto, tiempo_aproximado = ejecutar_ejemplo_aleatorio(\n",
        "    matriz, barcos, res_fil, res_col)\n"
      ],
      "metadata": {
        "colab": {
          "base_uri": "https://localhost:8080/"
        },
        "id": "4LohZldgOwIP",
        "outputId": "bf492f0b-ad58-43c7-8314-ee1b943e9dfb"
      },
      "execution_count": 17,
      "outputs": [
        {
          "output_type": "stream",
          "name": "stdout",
          "text": [
            "Solución Exacta:\n",
            "1------\n",
            "1-1-11-\n",
            "1-1----\n",
            "----11-\n",
            "11-----\n",
            "----1-1\n",
            "-------\n",
            "-------\n",
            "Demanda Cumplida Exacta: 26\n",
            "Demanda Total Exacta: 53\n",
            "Tiempo Exacto: 0.016429901123046875\n",
            "\n",
            "Solución Aproximada:\n",
            "1......\n",
            "1...1..\n",
            "1...1..\n",
            "......1\n",
            ".1.....\n",
            ".1.....\n",
            "....1..\n",
            ".......\n",
            "Demanda Cumplida Aproximada: 18\n",
            "Tiempo Aproximado: 0.00015020370483398438\n"
          ]
        }
      ]
    },
    {
      "cell_type": "code",
      "source": [
        "#10 10 10\n",
        "matriz = [[0] * 10 for _ in range(10)]\n",
        "barcos = [4,3,3,2,2,2,1,1,1,1]\n",
        "res_fil = [3,2,2,4,2,1,1,2,3,0]\n",
        "res_col = [1,2,1,3,2,2,3,1,5,0]\n",
        "\n",
        "\n",
        "_, _, _, _, tiempo_exacto, tiempo_aproximado = ejecutar_ejemplo_aleatorio(\n",
        "    matriz, barcos, res_fil, res_col)\n"
      ],
      "metadata": {
        "colab": {
          "base_uri": "https://localhost:8080/"
        },
        "id": "lOGQ_nGpP5Ob",
        "outputId": "64bb72ce-91ab-4e3f-ec36-32a2e30196a3"
      },
      "execution_count": 18,
      "outputs": [
        {
          "output_type": "stream",
          "name": "stdout",
          "text": [
            "Solución Exacta:\n",
            "---1-1--1-\n",
            "---1----1-\n",
            "---1----1-\n",
            "11----1-1-\n",
            "------1---\n",
            "------1---\n",
            "----1-----\n",
            "----1--1--\n",
            "-11-------\n",
            "----------\n",
            "Demanda Cumplida Exacta: 36\n",
            "Demanda Total Exacta: 40\n",
            "Tiempo Exacto: 0.2128918170928955\n",
            "\n",
            "Solución Aproximada:\n",
            "...1..1.1.\n",
            "......1.1.\n",
            "........1.\n",
            "111.....1.\n",
            "....11....\n",
            "..........\n",
            "..........\n",
            ".......11.\n",
            "...111....\n",
            "..........\n",
            "Demanda Cumplida Aproximada: 34\n",
            "Tiempo Aproximado: 0.0002703666687011719\n"
          ]
        }
      ]
    },
    {
      "cell_type": "code",
      "source": [
        "#12,12,21\n",
        "matriz = [[0] * 12 for _ in range(12)]\n",
        "barcos = [4,3,7,4,3,2,2,5,5,5,4,4,5,5,7,6,4,1,7,4,4]\n",
        "res_fil = [3,6,1,2,3,6,5,2,0,3,0,3]\n",
        "res_col = [3,0,1,1,3,1,0,3,3,4,1,4]\n",
        "\n",
        "\n",
        "_, _, _, _, tiempo_exacto, tiempo_aproximado = ejecutar_ejemplo_aleatorio(\n",
        "    matriz, barcos, res_fil, res_col)\n"
      ],
      "metadata": {
        "colab": {
          "base_uri": "https://localhost:8080/"
        },
        "id": "v4xZL-VCQUiN",
        "outputId": "0a6f4c8d-a42d-45eb-dae5-584579d8df4b"
      },
      "execution_count": 19,
      "outputs": [
        {
          "output_type": "stream",
          "name": "stdout",
          "text": [
            "Solución Exacta:\n",
            "1---1-------\n",
            "1------11111\n",
            "1-----------\n",
            "-------1-1--\n",
            "-------1-1-1\n",
            "--1111---1-1\n",
            "------------\n",
            "------------\n",
            "------------\n",
            "------------\n",
            "------------\n",
            "------------\n",
            "Demanda Cumplida Exacta: 40\n",
            "Demanda Total Exacta: 58\n",
            "Tiempo Exacto: 0.9567568302154541\n",
            "\n",
            "Solución Aproximada:\n",
            "1...........\n",
            ".......11111\n",
            "............\n",
            "............\n",
            "............\n",
            "..1111......\n",
            ".......111..\n",
            "............\n",
            "............\n",
            "............\n",
            "............\n",
            "............\n",
            "Demanda Cumplida Aproximada: 26\n",
            "Tiempo Aproximado: 0.0009284019470214844\n"
          ]
        }
      ]
    },
    {
      "cell_type": "code",
      "source": [
        "\n",
        "#15,10,15\n",
        "matriz = [[0] * 10 for _ in range(15)]\n",
        "barcos = [6, 2, 1, 8, 7, 2, 7, 2, 5, 8, 1, 8, 8, 1, 6]\n",
        "\n",
        "res_fil = [0, 3, 4, 1, 1, 4, 5, 0, 4, 5, 4, 2, 4, 3, 2]\n",
        "res_col = [0, 0, 3, 4, 1, 4, 6, 5, 2, 0]\n",
        "\n",
        "\n",
        "\n",
        "_, _, _, _, tiempo_exacto, tiempo_aproximado = ejecutar_ejemplo_aleatorio(\n",
        "    matriz, barcos, res_fil, res_col)\n",
        "\n"
      ],
      "metadata": {
        "colab": {
          "base_uri": "https://localhost:8080/"
        },
        "id": "rkrBMzsjQnNz",
        "outputId": "d7009358-0dc1-41dd-d367-edadaeb2fe86"
      },
      "execution_count": 20,
      "outputs": [
        {
          "output_type": "stream",
          "name": "stdout",
          "text": [
            "Solución Exacta:\n",
            "----------\n",
            "--11--1---\n",
            "------1---\n",
            "------1---\n",
            "------1---\n",
            "--11--1-1-\n",
            "------1-1-\n",
            "----------\n",
            "--1-1--1--\n",
            "-------1--\n",
            "---1---1--\n",
            "-------1--\n",
            "-------1--\n",
            "----------\n",
            "----------\n",
            "Demanda Cumplida Exacta: 40\n",
            "Demanda Total Exacta: 67\n",
            "Tiempo Exacto: 0.06321048736572266\n",
            "\n",
            "Solución Aproximada:\n",
            "..........\n",
            "......1...\n",
            "...1..1...\n",
            "......1...\n",
            "......1...\n",
            "......1...\n",
            "..11..1...\n",
            "..........\n",
            ".......1..\n",
            "..11...1..\n",
            ".....1....\n",
            "..........\n",
            "..1.......\n",
            "..........\n",
            "..........\n",
            "Demanda Cumplida Aproximada: 30\n",
            "Tiempo Aproximado: 0.0002512931823730469\n"
          ]
        }
      ]
    },
    {
      "cell_type": "code",
      "source": [
        "\n",
        "\n",
        "#20 20 20\n",
        "matriz = [[0] * 20 for _ in range(20)]\n",
        "barcos = [5, 5, 6, 5, 1, 3, 1, 5, 1, 1, 1, 1, 2, 3, 1, 1, 6, 7, 7, 4]\n",
        "\n",
        "res_fil = [5, 0, 0, 6, 2, 1, 6, 3, 3, 1, 2, 4, 5, 5, 2, 5, 4, 0, 4, 5]\n",
        "res_col = [0, 5, 5, 0, 6, 2, 2, 6, 2, 1, 3, 1, 2, 3, 1, 4, 5, 2, 1, 6]\n",
        "\n",
        "\n",
        "\n",
        "\n",
        "_, _, _, _, tiempo_exacto, tiempo_aproximado = ejecutar_ejemplo_aleatorio(\n",
        "    matriz, barcos, res_fil, res_col)\n",
        "\n",
        "\n"
      ],
      "metadata": {
        "colab": {
          "base_uri": "https://localhost:8080/"
        },
        "id": "LIdq7HopQnVL",
        "outputId": "d6807849-9307-4d97-bf43-cba304f0fbba"
      },
      "execution_count": 21,
      "outputs": [
        {
          "output_type": "stream",
          "name": "stdout",
          "text": [
            "Solución Exacta:\n",
            "----11111-----------\n",
            "--------------------\n",
            "--------------------\n",
            "----111111----------\n",
            "--1----------------1\n",
            "-------------------1\n",
            "----------11111----1\n",
            "--1-1--------------1\n",
            "--1----1-----------1\n",
            "-------------------1\n",
            "-1--------------1---\n",
            "-1--1--1--------1---\n",
            "-1--1--1--1-----1---\n",
            "-1--1--1----1---1---\n",
            "-1--------------1---\n",
            "----------1--1----1-\n",
            "--------------------\n",
            "--------------------\n",
            "--------------------\n",
            "--------------------\n",
            "Demanda Cumplida Exacta: 96\n",
            "Demanda Total Exacta: 120\n",
            "Tiempo Exacto: 0.20004701614379883\n",
            "\n",
            "Solución Aproximada:\n",
            "....11111...........\n",
            "....................\n",
            "....................\n",
            "....111111..........\n",
            "..1.............1...\n",
            "....................\n",
            "..........111111....\n",
            "...................1\n",
            "...................1\n",
            "...................1\n",
            "...................1\n",
            "...................1\n",
            "...............111..\n",
            ".11.................\n",
            "....................\n",
            ".1..1...............\n",
            ".......1............\n",
            "....................\n",
            "....1...............\n",
            ".1.....1............\n",
            "Demanda Cumplida Aproximada: 70\n",
            "Tiempo Aproximado: 0.0009593963623046875\n"
          ]
        }
      ]
    },
    {
      "cell_type": "code",
      "source": [
        "\n",
        "#20,25,30\n",
        "matriz = [[0] * 25 for _ in range(20)]\n",
        "barcos = [9, 4, 11, 12, 12, 5, 5, 6, 9, 5, 12, 3, 3, 9, 1, 1, 6, 13, 7, 2, 4, 5, 4, 12, 4, 3, 10, 13, 13, 8]\n",
        "\n",
        "\n",
        "res_fil = [1, 2, 5, 10, 11, 0, 11, 11, 3, 9, 9, 3, 9, 6, 1, 8, 3, 11, 6, 7]\n",
        "\n",
        "res_col = [5, 4, 5, 2, 10, 1, 0, 8, 7, 6, 0, 5, 4, 8, 4, 7, 4, 0, 8, 5, 6, 2, 4, 9, 7]\n",
        "\n",
        "\n",
        "\n",
        "\n",
        "_, _, _, _, tiempo_exacto, tiempo_aproximado = ejecutar_ejemplo_aleatorio(\n",
        "    matriz, barcos, res_fil, res_col)\n",
        "\n"
      ],
      "metadata": {
        "colab": {
          "base_uri": "https://localhost:8080/"
        },
        "id": "ZNYQpOkyQUlD",
        "outputId": "02f1afe8-2d05-48df-dfec-0faaa4d89151"
      },
      "execution_count": 22,
      "outputs": [
        {
          "output_type": "stream",
          "name": "stdout",
          "text": [
            "Solución Exacta:\n",
            "1------------------------\n",
            "1-1----------------------\n",
            "1-1-----1------11--------\n",
            "1-1-----1---------1111111\n",
            "1-1--1--1--111111--------\n",
            "-------------------------\n",
            "--1-1--1-1-11111---------\n",
            "----1--1-1--------11111--\n",
            "----1--1-1---------------\n",
            "----1--1-1-11111---------\n",
            "----1--1-1--------111-111\n",
            "----1--1-1---------------\n",
            "----1--1---1111----------\n",
            "----1--1-----------------\n",
            "----1--------------------\n",
            "-1--1---1----------------\n",
            "-1------1----------------\n",
            "-1------1----------------\n",
            "-1------1----------------\n",
            "-------------------------\n",
            "Demanda Cumplida Exacta: 172\n",
            "Demanda Total Exacta: 247\n",
            "Tiempo Exacto: 0.5389773845672607\n",
            "\n",
            "Solución Aproximada:\n",
            "....1....................\n",
            "....1..1.................\n",
            "....1..1.................\n",
            ".......1...11111.........\n",
            "..................1111111\n",
            ".........................\n",
            "111111..1..............1.\n",
            "...........111111......1.\n",
            ".........................\n",
            "...........11111.........\n",
            "..................11111..\n",
            ".........................\n",
            "...........1111..........\n",
            ".........................\n",
            ".........................\n",
            "111......................\n",
            ".........................\n",
            "11111....................\n",
            ".........................\n",
            "1........................\n",
            "Demanda Cumplida Aproximada: 112\n",
            "Tiempo Aproximado: 0.0030646324157714844\n"
          ]
        }
      ]
    },
    {
      "cell_type": "code",
      "source": [
        "\n",
        "#30,25,25\n",
        "matriz = [[0] * 25 for _ in range(30)]\n",
        "barcos = [10, 6, 6, 11, 14, 15, 8, 10, 1, 14, 7, 6, 16, 13, 16, 12, 1, 12, 5, 10, 4, 14, 13, 12, 4]\n",
        "\n",
        "\n",
        "res_fil = [3, 11, 11, 1, 2, 5, 4, 10, 5, 2, 12, 6, 12, 7, 0, 2, 0, 8, 10, 11, 6, 10, 0, 11, 5, 8, 6, 9, 8, 0]\n",
        "\n",
        "res_col = [3, 12, 1, 5, 14, 15, 6, 11, 2, 10, 12, 10, 6, 2, 7, 1, 5, 11, 5, 10, 7, 11, 4, 0, 5]\n",
        "\n",
        "\n",
        "\n",
        "\n",
        "\n",
        "_, _, _, _, tiempo_exacto, tiempo_aproximado = ejecutar_ejemplo_aleatorio(\n",
        "    matriz, barcos, res_fil, res_col)\n",
        "\n",
        "\n",
        "\n",
        "\n"
      ],
      "metadata": {
        "colab": {
          "base_uri": "https://localhost:8080/"
        },
        "id": "H8PhGJI-QUn2",
        "outputId": "45db3205-e221-4400-eff7-cf2e32e28f94"
      },
      "execution_count": 23,
      "outputs": [
        {
          "output_type": "stream",
          "name": "stdout",
          "text": [
            "Solución Exacta:\n",
            "1-1-1--------------------\n",
            "----1-----------1111111--\n",
            "----1----1111------------\n",
            "----1--------------------\n",
            "-1--1--------------------\n",
            "-1--1-1------------------\n",
            "-1--1-1------------------\n",
            "-1--1-1---------111111---\n",
            "-1--1-1------------------\n",
            "-1--1--------------------\n",
            "----1-11111111111--------\n",
            "----1--------------------\n",
            "----1-----------111111---\n",
            "----1--------------------\n",
            "-------------------------\n",
            "-------------------------\n",
            "-------------------------\n",
            "----------------11111----\n",
            "-----1111111111----------\n",
            "-------------------------\n",
            "-------------------------\n",
            "-------------------------\n",
            "-------------------------\n",
            "-------------------------\n",
            "-------------------------\n",
            "-------------------------\n",
            "-------------------------\n",
            "-------------------------\n",
            "-------------------------\n",
            "-------------------------\n",
            "Demanda Cumplida Exacta: 150\n",
            "Demanda Total Exacta: 360\n",
            "Tiempo Exacto: 1.9312832355499268\n",
            "\n",
            "Solución Aproximada:\n",
            ".....1...........1...1...\n",
            ".....1...................\n",
            ".....1...................\n",
            ".....1...................\n",
            ".1...1...................\n",
            ".1...1...................\n",
            ".1...1...................\n",
            ".1...1...................\n",
            ".1...1...................\n",
            ".1...1...................\n",
            ".....1.11111.............\n",
            ".....1...................\n",
            "1111.1...................\n",
            ".....1...................\n",
            ".........................\n",
            ".........................\n",
            ".........................\n",
            ".........................\n",
            ".........................\n",
            "...1111..................\n",
            ".........................\n",
            ".........................\n",
            ".........................\n",
            "....1.....1..............\n",
            "....1.....1..............\n",
            "....1.....1..............\n",
            "....1.....1..............\n",
            "....1.....1..............\n",
            "....1.....1..............\n",
            ".........................\n",
            "Demanda Cumplida Aproximada: 94\n",
            "Tiempo Aproximado: 0.002157449722290039\n"
          ]
        }
      ]
    },
    {
      "cell_type": "code",
      "source": [
        "import random\n",
        "import numpy as np\n",
        "import time\n",
        "import matplotlib.pyplot as plt\n",
        "\n",
        "n_tamanios = ['3_3_2.txt', '10_3_3.txt', '5_5_6.txt', '8_7_10.txt' , '10_10_10.txt',  '15_10_15.txt','12_12_21.txt','20_25_30.txt']\n",
        "tiempos_aprox = [0.00028371810913085938,0.00017786026000976562, 0.0001308917999267578, 0.00015664100646972656, 0.00020432472229003906, 0.00039577484130859375, 0.0012989044189453125,0.014533519744873047]\n",
        "tiempos_exacto = [0.00014591217041015625, 0.0008003711700439453,0.08788490295410156, 0.01371312141418457,  0.06358575820922852, 0.0004355907440185547, 0.33794665336608887, 0.33278870582580566]\n",
        "plt.figure(figsize=(10, 6))\n",
        "plt.plot(n_tamanios, tiempos_aprox, 'o-', label=\"Aproximación\", color='blue')\n",
        "plt.plot(n_tamanios, tiempos_exacto, 'o-', label=\"Backtracking\", color='red')\n",
        "\n",
        "plt.xlabel('Archivo de entrada (txt)')\n",
        "plt.ylabel('Tiempo de ejecución (s)')\n",
        "plt.legend()\n",
        "plt.title(\"Comparación de tiempos de ejecución entre backtracking y aproximacion\")\n",
        "plt.show()\n",
        "\n"
      ],
      "metadata": {
        "id": "luCWyS8xQUpU",
        "colab": {
          "base_uri": "https://localhost:8080/",
          "height": 565
        },
        "outputId": "129c0e2f-4773-4e87-c008-ca767352a2a7"
      },
      "execution_count": 24,
      "outputs": [
        {
          "output_type": "display_data",
          "data": {
            "text/plain": [
              "<Figure size 1000x600 with 1 Axes>"
            ],
            "image/png": "[encoded data removed]"
          },
          "metadata": {}
        }
      ]
    },
    {
      "cell_type": "code",
      "source": [
        "import random\n",
        "import numpy as np\n",
        "import time\n",
        "import matplotlib.pyplot as plt\n",
        "\n",
        "n_tamanios = ['3_3_2.txt', '10_3_3.txt', '5_5_6.txt', '8_7_10.txt' , '10_10_10.txt',  '15_10_15.txt','12_12_21.txt','20_25_30.txt']\n",
        "tiempos_exacto = [6,6,12,26,36,40,40,172]\n",
        "tiempos_aprox = [2,6, 12, 18, 34, 30 , 26,112]\n",
        "plt.figure(figsize=(10, 6))\n",
        "plt.plot(n_tamanios, tiempos_aprox, 'o-', label=\"Aproximación\", color='blue')\n",
        "plt.plot(n_tamanios, tiempos_exacto, 'o-', label=\"Backtracking\", color='red')\n",
        "\n",
        "plt.xlabel('Archivo de entrada (txt)')\n",
        "plt.ylabel('Demanda cumplida')\n",
        "plt.legend()\n",
        "plt.title(\"Comparación de demanda cumplida entre backtracking y aproximacion\")\n",
        "plt.show()\n",
        "\n"
      ],
      "metadata": {
        "id": "axBKoCE7P5RY",
        "colab": {
          "base_uri": "https://localhost:8080/",
          "height": 565
        },
        "outputId": "d70fc363-967b-455e-c68c-f5b576941167"
      },
      "execution_count": 25,
      "outputs": [
        {
          "output_type": "display_data",
          "data": {
            "text/plain": [
              "<Figure size 1000x600 with 1 Axes>"
            ],
            "image/png": "[encoded data removed]"
          },
          "metadata": {}
        }
      ]
    },
    {
      "cell_type": "code",
      "source": [],
      "metadata": {
        "id": "Zblu8MGAP5T2"
      },
      "execution_count": 25,
      "outputs": []
    },
    {
      "cell_type": "code",
      "source": [],
      "metadata": {
        "id": "BXIda4F1P5WG"
      },
      "execution_count": 25,
      "outputs": []
    },
    {
      "cell_type": "code",
      "source": [],
      "metadata": {
        "id": "OZNMUnjDP5YG"
      },
      "execution_count": 25,
      "outputs": []
    },
    {
      "cell_type": "code",
      "source": [],
      "metadata": {
        "id": "BgVyNfFdP5aD"
      },
      "execution_count": 25,
      "outputs": []
    },
    {
      "cell_type": "code",
      "source": [],
      "metadata": {
        "id": "J9Cp_UXAP5cB"
      },
      "execution_count": 25,
      "outputs": []
    },
    {
      "cell_type": "code",
      "source": [],
      "metadata": {
        "id": "e5RBqxiBP5eD"
      },
      "execution_count": 25,
      "outputs": []
    },
    {
      "cell_type": "code",
      "source": [],
      "metadata": {
        "id": "IDNSm_qSP5gZ"
      },
      "execution_count": 25,
      "outputs": []
    },
    {
      "cell_type": "code",
      "source": [],
      "metadata": {
        "id": "rZ4q7C7CP5iS"
      },
      "execution_count": 25,
      "outputs": []
    },
    {
      "cell_type": "code",
      "source": [],
      "metadata": {
        "id": "MdbcqtR4P5kW"
      },
      "execution_count": 25,
      "outputs": []
    },
    {
      "cell_type": "code",
      "source": [],
      "metadata": {
        "id": "MMLwo4CeP5mi"
      },
      "execution_count": 25,
      "outputs": []
    },
    {
      "cell_type": "code",
      "source": [],
      "metadata": {
        "id": "soz_CzETOwNT"
      },
      "execution_count": 25,
      "outputs": []
    },
    {
      "cell_type": "code",
      "source": [],
      "metadata": {
        "id": "8LU17ZeAOwQX"
      },
      "execution_count": 25,
      "outputs": []
    },
    {
      "cell_type": "code",
      "source": [],
      "metadata": {
        "id": "KqRXwCT-OwTA"
      },
      "execution_count": 25,
      "outputs": []
    },
    {
      "cell_type": "code",
      "source": [],
      "metadata": {
        "id": "NuV5WXxHOwVT"
      },
      "execution_count": 25,
      "outputs": []
    },
    {
      "cell_type": "code",
      "source": [],
      "metadata": {
        "id": "mR148EiPOwXX"
      },
      "execution_count": 25,
      "outputs": []
    },
    {
      "cell_type": "code",
      "source": [],
      "metadata": {
        "id": "KrI60yK_5f-Y"
      },
      "execution_count": 25,
      "outputs": []
    },
    {
      "cell_type": "code",
      "source": [],
      "metadata": {
        "id": "i9ScczYF5SCC"
      },
      "execution_count": 25,
      "outputs": []
    },
    {
      "cell_type": "code",
      "source": [
        "m = [[0, 0, 0], [0, 0, 0], [0, 0, 0], [0, 0, 0], [0, 0, 0], [0, 0, 0], [0, 0, 0], [0, 0, 0], [0, 0, 0], [0, 0, 0]]\n",
        "[[0, 0, 0], [0, 0, 0], [0, 0, 0], [0, 0, 0], [0, 0, 0], [0, 0, 0], [0, 0, 0], [0, 0, 0], [0, 0, 0], [0, 0, 0]]\n",
        "[[0, 0, 0], [0, 0, 0], [0, 0, 0], [0, 0, 0], [0, 0, 0], [0, 0, 0], [0, 0, 0], [0, 1, 0], [0, 1, 0], [0, 1, 0]]\n",
        "[[0, 0, 0], [0, 0, 0], [0, 0, 0], [0, 0, 0], [0, 0, 0], [0, 0, 0], [0, 0, 0], [0, 1, 0], [0, 1, 0], [0, 1, 0]]\n",
        "[[0, 0, 0], [0, 0, 0], [0, 0, 0], [0, 0, 0], [0, 0, 0], [0, 0, 0], [0, 0, 0], [0, 0, 1], [0, 0, 1], [0, 0, 1]]\n",
        "[[0, 0, 0], [0, 0, 0], [0, 0, 0], [0, 0, 0], [0, 0, 0], [0, 0, 0], [0, 0, 0], [0, 0, 1], [0, 0, 1], [0, 0, 1]]\n",
        "[[0, 0, 0], [0, 0, 0], [0, 0, 0], [0, 0, 0], [0, 0, 0], [0, 0, 0], [0, 0, 0], [0, 0, 0], [0, 0, 0], [0, 0, 0]]\n",
        "[[0, 0, 0], [0, 0, 0], [0, 0, 0], [0, 0, 0], [0, 0, 0], [0, 0, 0], [0, 0, 0], [0, 1, 0], [0, 1, 0], [0, 1, 0]]\n",
        "[[0, 0, 0], [0, 0, 0], [0, 0, 0], [0, 0, 0], [0, 0, 0], [0, 0, 0], [0, 0, 0], [0, 1, 0], [0, 1, 0], [0, 1, 0]]"
      ],
      "metadata": {
        "id": "3ARzx2xn4lVg",
        "colab": {
          "base_uri": "https://localhost:8080/"
        },
        "outputId": "d4a5e220-f1f6-4a47-eaf1-84941553d165"
      },
      "execution_count": 26,
      "outputs": [
        {
          "output_type": "execute_result",
          "data": {
            "text/plain": [
              "[[0, 0, 0],\n",
              " [0, 0, 0],\n",
              " [0, 0, 0],\n",
              " [0, 0, 0],\n",
              " [0, 0, 0],\n",
              " [0, 0, 0],\n",
              " [0, 0, 0],\n",
              " [0, 1, 0],\n",
              " [0, 1, 0],\n",
              " [0, 1, 0]]"
            ]
          },
          "metadata": {},
          "execution_count": 26
        }
      ]
    },
    {
      "cell_type": "code",
      "source": [],
      "metadata": {
        "id": "z8dtvYAV4lYE"
      },
      "execution_count": 26,
      "outputs": []
    },
    {
      "cell_type": "code",
      "source": [],
      "metadata": {
        "id": "iwanjUrX4laf"
      },
      "execution_count": 26,
      "outputs": []
    },
    {
      "cell_type": "code",
      "source": [],
      "metadata": {
        "id": "GsWDducm4lc3"
      },
      "execution_count": 26,
      "outputs": []
    },
    {
      "cell_type": "code",
      "source": [],
      "metadata": {
        "id": "U41cmQUd4lfI"
      },
      "execution_count": 26,
      "outputs": []
    },
    {
      "cell_type": "code",
      "source": [],
      "metadata": {
        "id": "OkhjKMyW4lhL"
      },
      "execution_count": 26,
      "outputs": []
    },
    {
      "cell_type": "code",
      "source": [],
      "metadata": {
        "id": "kjUTSIa64ljb"
      },
      "execution_count": 26,
      "outputs": []
    },
    {
      "cell_type": "code",
      "source": [],
      "metadata": {
        "id": "pRaB7RD24lll"
      },
      "execution_count": 26,
      "outputs": []
    }
  ]
}